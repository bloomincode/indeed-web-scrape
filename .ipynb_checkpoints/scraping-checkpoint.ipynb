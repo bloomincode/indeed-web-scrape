{
 "cells": [
  {
   "cell_type": "code",
   "execution_count": 2,
   "metadata": {
    "scrolled": true
   },
   "outputs": [
    {
     "name": "stderr",
     "output_type": "stream",
     "text": [
      "/Users/gnuthall/anaconda3/lib/python3.8/site-packages/selenium/webdriver/phantomjs/webdriver.py:49: UserWarning: Selenium support for PhantomJS has been deprecated, please use headless versions of Chrome or Firefox instead\n",
      "  warnings.warn('Selenium support for PhantomJS has been deprecated, please use headless '\n",
      "/Users/gnuthall/anaconda3/lib/python3.8/site-packages/selenium/webdriver/phantomjs/webdriver.py:49: UserWarning: Selenium support for PhantomJS has been deprecated, please use headless versions of Chrome or Firefox instead\n",
      "  warnings.warn('Selenium support for PhantomJS has been deprecated, please use headless '\n"
     ]
    },
    {
     "name": "stdout",
     "output_type": "stream",
     "text": [
      "UK based applicants onlyWho we areWe are a growing Data Science Consultancy based in London and we are looking for a passionate NLP data scientist to work on the development of our regulation technology product.What are the project objectivesThe objectives of the project are to apply the state of the art Natural Language Processing (NLP) technology to the UK regulatory corpus, and use Artificial Intelligence (AI) to develop legal text classification and understanding models assisting businesses with regulatory compliance.What you’ll doProgramming primarily in Python using Jupyter notebooks and Python data science libraries (Pandas, SciPy, NumPy, NLTK, Gensim, BERT, etc.);Developing text classification models using supervised and unsupervised machine learning;Developing topic models using LDA/LSI/NMF and similar approaches;Developing Named Entity Recognition models;Developing extractive and abstractive text summarisation models;Participate in planning, feasibility assessment, proof of concepting and reporting phases;Iterative development, validation and testing phases;Brainstorming and discussions with lead data scientists, data engineers and product managers.Minimal Requirements: Successful completion of studies in Computer Science, Engineering or a related subject;2 Years or more of programming experience;Proficiency in Python and Jupyter notebooks;Proficiency using data science libraries such as Pandas, SciPy, NumPy, SciKit Learn, and similar;Experience with extraction and use of semantic vectors such as CountVector, TFIDF, Gensim Word2Vec, Fasttext, BERT, and othersExperience in development, validation and testing of Python functions using pytest or similar libraryExperience with text classification, topic modelling, text summarisation or other text related model design, development, validation and optimisation;Ability to solve real-world problems with independent research while being able to work in a team.Preferred QualificationAdvanced R&D experience using state of the art NLP sentence vectorisers such as BERT;Advanced knowledge in text summarisation particularly in abstractive text summarisation;Advanced real world experience in application of topic modelling techniques such as LDA/LSI/NMF;Advanced real world experience in text classification and clustering;Advanced knowledge in supervised and unsupervised machine learning in NLP;Experiences in independent design and development of NLP methodologies;Experiences in RegTech field or application of NLP to legal texts;Where you’ll workWe are currently based in Huckletree, which is located near Old Street Station in Shoreditch. Huckletree is a global community for tech entrepreneurs & startups, where you are surrounded by passionate and amazing people. There are many great talks and events, monthly drinks and other socializing activities.During this project time frame (2021 Nov – 2022 March), we expect mostly work from home although may require in-person discussion/meetings in London.How you’ll progressWe are recruiting you for a 5 month fixed term Phase 1 project, which is aimed to be followed by a 12 month Phase 2 if Phase 1 is successful;Your development is as important to us as it is to you. You’ll be rewarded for hard work here, with support to get better at what you do;We work in a fast-paced project environment where change is constant. If you’re up for the challenge, you’ll have opportunities to try new things and broaden your skills quickly through exposure to the executive team and new experiences.What you’ll get5 month fixed term employment12 days holidays (excluding bank holidays) in 5 monthsPension and insuranceFlexible working hours and work-from-home opportunitiesWe recruit based on excellence, and believe that diversity is vital to success. We have zero tolerance for bullying, harassment or any other behavior that stifles innovation and collaboration.Contract length: 5 monthsPart-time hours: 40 per weekExpected Start Date: 01/11/2021Job Types: Full-time, Part-time, Temporary, ContractSalary: £60,000.00-£85,000.00 per yearBenefits:Flexible scheduleWork from homeSchedule:8 hour shiftMonday to FridayCOVID-19 considerations:Work from homeApplication question(s):Are you legally allowed to work in the UK and without visa sponsorship?Education:Master's (preferred)Experience:Data science: 2 years (required)Work remotely:Yes\n"
     ]
    },
    {
     "name": "stderr",
     "output_type": "stream",
     "text": [
      "/Users/gnuthall/anaconda3/lib/python3.8/site-packages/selenium/webdriver/phantomjs/webdriver.py:49: UserWarning: Selenium support for PhantomJS has been deprecated, please use headless versions of Chrome or Firefox instead\n",
      "  warnings.warn('Selenium support for PhantomJS has been deprecated, please use headless '\n"
     ]
    },
    {
     "name": "stdout",
     "output_type": "stream",
     "text": [
      "Data Scientist\n",
      "\n",
      "Are you passionate about food tech and data? Do you enjoy solving problems and working collaboratively with engineers, product managers and analysts to develop and evaluate models or algorithms? Then we would like to hear from you!\n",
      "Our story\n",
      "\n",
      "With over 98 million active users across 24 countries, here at Just Eat Takeaway.com we're a global food tech company, connecting our customers from Amsterdam to Auckland with the food they love.\n",
      "As a data science team working on personalisation, order fulfillment and more, you will solve challenging data science problems to help build the best customer experience possible. If you are passionate about customers and food, come and join us!\n",
      "All about the role\n",
      "\n",
      "The Data Scientist will be responsible for delivering data science models as part of a team working on challenges in areas such as fulfillment and personalisation. You will be part of an established team of data scientists with experience in these areas, and work closely with the product and tech teams to build and evaluate suitable algorithms to allow us to scale our business. The role will require collaboration with other Tech teams working to production deadlines as part of the product development cycle. You will also be comfortable exploring data to visualise and explain hypotheses and models.\n",
      "In this role, you will also have the opportunity to:\n",
      "\n",
      "Develop in Python as the majority of our team is using it. We need people with a passion for software, who can read and understand complicated codebases.\n",
      "Extract and manipulate data from our various SQL and NoSQL data stores and storage frameworks.\n",
      "Develop and maintain our data science models in production.\n",
      "Work in agile teams, with code reviews and source control.\n",
      "Research and implement best-practice methods.\n",
      "Communicate business outcomes and recommendations from analysis verbally to a wide variety of stakeholders and document your analyses and insights.\n",
      "Can you deliver…\n",
      "\n",
      "Here are the skills and experience we need from you:\n",
      "Analytical and quantitative skills, as evidenced by e.g., MSc/PhD in a quantitative discipline (e.g., CS, Stats, Physics) or equivalent working experience.\n",
      "Relevant experience wrangling and analysing data.\n",
      "Ability to develop confidently in Python and SQL (BigQuery) with a good command of software development best practices or the willingness to learn.\n",
      "Applied experience with machine learning, data science and solving problems at scale.\n",
      "Preferred experience can include: personalisation, recommender systems, logistics problems.\n",
      "Communication skills will be paramount in this role. You need the ability to communicate business outcomes and recommendations from analysis verbally, in writing and during presentations.\n",
      "Ability to explain data science concepts and guide decision makers on the interpretation of results.\n",
      "Here is our offer\n",
      "\n",
      "Here at Just Eat Takeaway.com, we offer our colleagues the chance to develop and grow alongside top talent in one of the world's leading food delivery companies. By providing a creative, dynamic and innovative environment, we empower our people and give them the ingredients for success.\n",
      "Ready to join us as a Data Scientist? Click Apply Now and send us your CV!\n",
      "Diversity, Inclusion & Belonging.\n",
      "\n",
      "No matter who you are, what you look like, who you love, or where you are from, you can find your place at Just Eat Takeaway.com. We're committed to creating an inclusive culture, encouraging diversity of people and thinking, in which all employees feel they truly belong and can bring their most colourful selves to work every day.\n",
      "More about us\n",
      "\n",
      "Want to know more about our company vision, culture or career growth opportunities? Have a look on our careers site.\n"
     ]
    },
    {
     "name": "stderr",
     "output_type": "stream",
     "text": [
      "/Users/gnuthall/anaconda3/lib/python3.8/site-packages/selenium/webdriver/phantomjs/webdriver.py:49: UserWarning: Selenium support for PhantomJS has been deprecated, please use headless versions of Chrome or Firefox instead\n",
      "  warnings.warn('Selenium support for PhantomJS has been deprecated, please use headless '\n"
     ]
    },
    {
     "name": "stdout",
     "output_type": "stream",
     "text": [
      "Salary: £30k - 38k per year + Benefits\n",
      "Reference: COR3894\n",
      "\n",
      "Data Scientist, Python, R, Pharmaceutical\n",
      "Are you a Data Scientist looking for a new challenge? Do you have sound experience of statistics & analytics? Are you keen to join a thriving organisation with a global reach? If so, this position might be the right one for you!\n",
      "My client, is urgently seeking a skilled and experienced Data Scientist to join their analytics team, providing key business insights to clients across the globe; within the Pharmaceutical sector. The successful Data Scientist will be based-in London and have the opportunity to work on a part-remote basis. They will operate in a client-facing capacity, across the full project lifecycle with statistical software packages such as R, Python SPSS & Qualtrics, as well as gaining the opportunity to mentor and lead other junior Data Scientists.\n",
      "The Company\n",
      "As the successful Data Scientist, you will be joining an established and fast-paced organisation within the Pharmaceutical consultancy sector. With more than 15 years industry experience, they operate on a global scale with offices across the EU and US, providing bespoke, high-quality services to all of their clients. As well as working in an exciting and fast-paced environment with global applications, they truly take pride in the support and benefits provided to their employees, including but not limited to:\n",
      "\n",
      "Excellent training and progression opportunities\n",
      "Flexible working – This position offers the opportunity to work from home 3 / 4 days per week\n",
      "25 days holiday + BH, increasing yearly up to 30 days with the opportunity to also buy further holiday\n",
      "Vitality Health insurance & Life Assurance\n",
      "\n",
      "What’s Required?\n",
      "To be successful in this position, the chosen Data Scientist will be required to have:\n",
      "\n",
      "A relevant STEM or analytics degree such as statistics, mathematics, physics, engineering or relevant professional experience / qualifications\n",
      "Proven commercial experience as a data scientist – Ideally within research or data-science driven services\n",
      "Strong experience of statistics and statistical analysis software / Languages such as R, Python, SPSS, Qualtrics or similar\n",
      "Experience of cloud computing or experience within the healthcare, pharmaceutical or MedTech sector is also highly desirable\n",
      "\n",
      "What Next?\n",
      "If you’re passionate about Data Science and the above role sounds like you, apply now for immediate consideration.\n",
      "Data Scientist, Python, R, Pharmaceutical, Statistics, statistical analysis, analytics\n",
      "Corriculo Ltd acts as an employment agency and an employment business.\n"
     ]
    },
    {
     "name": "stderr",
     "output_type": "stream",
     "text": [
      "/Users/gnuthall/anaconda3/lib/python3.8/site-packages/selenium/webdriver/phantomjs/webdriver.py:49: UserWarning: Selenium support for PhantomJS has been deprecated, please use headless versions of Chrome or Firefox instead\n",
      "  warnings.warn('Selenium support for PhantomJS has been deprecated, please use headless '\n"
     ]
    },
    {
     "name": "stdout",
     "output_type": "stream",
     "text": [
      "Are you an enthusiastic and curious individual who enjoys using data to find patterns and help solve the problems faced by businesses in innovative and imaginative ways?Would you relish the opportunity to apply these skills across diverse industries?The opportunityWe are looking for exceptional, energetic, hard-working and hands-on enthusiastic graduates to join our group of world class employees in Autumn 2022. If successful you will be part of this team and have the unique opportunity to work with clients from start-ups through to global market leaders. You will have a passion for technology and will use a combination of innovation, flexibility and technical excellence to meet and exceed our customers’ often demanding requirements and tight development timescales.We haveA multitude of exciting projects in the medical, industrial and consumer sectorsProjects ranging from quick build proof-of-principle prototypes through to full solution developmentThe opportunity to work with clients to define their needs and to develop innovative and exciting solutionsYou will have: A degree 2.1 or above, (or even a PhD) in Computer Science, Engineering, Mathematical or Science-basedExperience using Python/ R – that’s what most of our work is done withWorking in at least 2 data science or machine learning projects (this could be as part of your education or in any past jobs)Analytical and problem-solving skillsYou might also have (but not essential): Knowledge of Natural Language Processing areas such as topic modelling, sentiment analysis, chatbots & virtual assistants and speech recognitionAny PC software development experienceA day in the lifeYou will be a member of our Data Science & Insights team. As part of a team building innovative solutions for clients, you'll extract, analyse and interpret large amounts of data from a range of sources, using algorithmic, data mining, artificial intelligence, machine learning and statistical tools. You will select & use existing open-source/ commercial machine learning algorithms where possible and work with our talented mathematicians to build custom data algorithms where required. You will train, test and combine algorithms into models which power innovative solutions for our clients, delivering real-world impact.Your work will predominately be based at our Sagentia offices in Harston, Cambridge or Epsom, Surrey and there may also be opportunities to travel to client sites in Europe or USA. You will enjoy a fast-paced environment in which we solve a variety of challenges from different industries.At any one time we have dozens of projects in the medical, industrial and consumer sectors. As an experienced data scientist, you will have the opportunity to play a key role in developing innovative machine learning/ artificial intelligence-based solutions on one or more projects simultaneously across sectors.Career developmentYou will work on client projects from your first day; we think this provides you with the opportunity to learn from a fantastic team of colleagues and put your great technical skills to use immediately! We work with you from the start of your time with us to ensure we understand how you want to develop your career in the future. We have a great variety of projects taking place at all times and identify, offer and provide bespoke training to support you in developing your existing skills and fill in any gaps. When you join you will be paired with a mentor whose job is to help you settle in, inspire you and instil the Sagentia way.Every one of our employees has the opportunity to progress and develop within our business – there is no career ceiling; with commitment and hard work there is no limit to what you can achieve! Success looks different to everyone and Sagentia provides great career advancement whether you want to apply your technical skills to brilliant projects, find solutions to problems no one else can solve, deepen and broaden your technical knowledge, manage complex projects, teams or business development!BenefitsYou will be offered a competitive salary and benefits package.Job Type: Full-timeWork Location: Multiple Locations\n"
     ]
    },
    {
     "name": "stderr",
     "output_type": "stream",
     "text": [
      "/Users/gnuthall/anaconda3/lib/python3.8/site-packages/selenium/webdriver/phantomjs/webdriver.py:49: UserWarning: Selenium support for PhantomJS has been deprecated, please use headless versions of Chrome or Firefox instead\n",
      "  warnings.warn('Selenium support for PhantomJS has been deprecated, please use headless '\n"
     ]
    },
    {
     "name": "stdout",
     "output_type": "stream",
     "text": [
      "Our people work differently depending on their jobs and needs. From home working to job sharing, go to remote and flexible working to find out more.\n",
      "This role is based in the United Kingdom and as such all normal working days must be carried out in the United Kingdom.\n",
      "About you\n",
      "To be eligible for our Data and Analytics programme, you’ll need to have, or be on course to achieving a 2:1 in your degree\n",
      "We’re looking for curious, inquisitive people who show a real passion for data and technology, and the drive to explore how it can be used to make a positive difference for our customers\n",
      "You’ll bring strong problem solving skills, along with an analytical approach and an appreciation of analysis techniques.\n",
      "About the programme\n",
      "As a graduate trainee in Data and Analytics we’ll equip you with the knowledge, skills and experiences you’ll need to make a significant impact and become a leading data expert. You’ll learn about the ways we’re using data to drive changes and improvements to customer experiences, and challenge you to consider ethical issues and focus on keeping our customers’ data safe.\n",
      "We’ll reward you with a starting salary of £31,850 a year. And on top of your salary, you’ll also have access to our flexible benefits package.\n",
      "Over the course of this two year programme you’ll:\n",
      "Learn the core technical skills needed to succeed as an analyst\n",
      "Interrogate, interpret and visualise large volumes of data\n",
      "Learn how to articulate complex situations and technical work to a non-technical audience\n",
      "Drive the use of data across the bank to ensure better customer engagement\n",
      "Build your confidence, and develop your influencing and stakeholder management skills\n",
      "See first-hand how our Data Academy can help you develop a strong foundation in critical data skills, and provide the opportunity to master specialisms like data science and data engineering.\n",
      "About the business area\n",
      "Our data is one of our greatest assets, and how we harness it to understand the world, our business and our customers’ needs is crucial. In Data & Analytics, we promote the intelligent use of data and make sure it’s used in the right way.\n",
      "Good data engineering helps us get to grips with the data we have. And data science allows us to apply statistics, computer science and problem solving skills together with strong research methods to test, learn and optimise machine learning powered decisions to help customers.\n",
      "Applications for this programme will be open until we receive enough applications to complete our hiring. When that happens, we’ll close the programme to new applications. It’s important to take the time to make sure you’re making the right decision about the programme you want to apply for (you can only apply for one Graduate/Intern programme) but please complete your application as soon as you can to make sure you don’t miss out.\n",
      "If you need any adjustments to support your application, such as information in alternative formats or special requirements to access our buildings, or if you’re eligible under the Disability Confident Scheme please contact us and we’ll do everything we can to help.\n"
     ]
    },
    {
     "name": "stderr",
     "output_type": "stream",
     "text": [
      "/Users/gnuthall/anaconda3/lib/python3.8/site-packages/selenium/webdriver/phantomjs/webdriver.py:49: UserWarning: Selenium support for PhantomJS has been deprecated, please use headless versions of Chrome or Firefox instead\n",
      "  warnings.warn('Selenium support for PhantomJS has been deprecated, please use headless '\n"
     ]
    },
    {
     "name": "stdout",
     "output_type": "stream",
     "text": [
      "Data Science GraduateContract: 30 monthsHours: 35 per weekBased at: Stratford, West Ham Lane but expected to be flexible and work from other L&Q offices as required.Persona: AgileStarting salary: £27,000 p.a.Closing date for completed applications: Sunday 31sth October 2021Telephone Interviews will be held on Monday 15th November 20212nd stage Interviews will be held from: w/c 22nd November 2021Due to COVID19, colleagues in eligible roles are currently working from home in line with government guidelinesEarly applications are encouraged as we reserve the right to close the advertisement and interview earlier than statedL&Q Data Science team sits in BI & Analytics and is critical to our journey towards becoming an insight-driven organisation. You will join a small but strong team of data scientists and will work as part of cross-functional AGILE teams to deliver high-impact projects. We will look to you to own your stakeholder relationship and provide expert advice on using machine learning to improve their processes and decision making.What you will do· Work with Data Scientist colleagues to own and manage delivery of part of data science and/or analytics projects· Manage stakeholder relationships. Participate in business communication with stakeholders, analyse their needs, and refine their requirements to deliver through building analytics/ML solutions.· Analyse data to discover hidden trends; deliver insights and analysis with clear actionable recommendations· Design, build, and implement predictive models to improve and optimise processes and performance, customer experiences, revenue generation, and other business outcomes· Deliver effective presentations of findings and recommendations to technical and non-technical stakeholders· Document analytics projects in a manner that ensures specific processes can be replicated and scaled across an organisation· Collaborate with multiple data teams and stakeholders in an agile environmentWhat you will bring to the role· Keen interest in building Data Science knowledge and experience· Strong stakeholder management skills· Familiarity of and keen interest in learning Machine Learning algorithms and frameworks· Clear, concise and engaging communications skills, and the ability to distil and translate complex analysis into actionable insights· Familiarity of Python and SQL, or keen interest in learning them via job assignment· Strong spreadsheet manipulation and charting skills· Keen interest in learning visualisation tools to create compelling and interactive visualisationsYour key attributes· Superb problem-solving skills· Attention to detail, data sceptic, ensure accurate and quality results· A curious thinker who demonstrates interests in a wide range of business and technical subjects· Strong time management skills· Keen interest in learning new technical and non-technical skillsYou will complete the Level 7 Artificial Intelligence (AI) Data Specialist Higher Apprenticeship. The standard entry criteria for the apprenticeship is:An honours degree (2:2 or above) in an appropriate STEM discipline, or with the appropriate aptitude for a role in analytics.Relevant qualifications and/or work experience will be taken into consideration where the applicant has the judged potential to benefit from the programme.COVID 19: The safety of our staff and our candidates is of the utmost importance. Every effort will be taken to ensure that safe ways of working are adopted throughout the Recruitment and Selection process. We are introducing extra precautions in line with UK Government Guidelines. Our recruitment processes will follow social distancing and COVID-19 Secure requirements. This will include the use of various technologies to support the interview process. Should candidates have any questions regarding this, or if you require additional support please let us know at the interview planning stage.Our commitments:At L&Q, people are at the heart of our business and our success depends on employing the best people and getting the best from them. This is why we are committed to developing our people. It's only by investing in a well-trained and motivated workforce that we can continue to prosper and sustain business success.In addition to our support and training, the successful candidate will have access to our full suite of benefits including 26 days holiday rising to 31 days with length of service, annual bonus subject to group performance, excellent Pension scheme, Benenden Healthcare, an employee assistance programme and non-contributory life assurance.We are committed to supporting your work-life balance and recognise the changing demands and circumstances in life. Please let us know during the recruitment process if you’re interested in part time working or job sharing. In addition, should your circumstances change once you have joined L&Q, you can also request flexible working arrangements, e.g. a change to working hours - if it’s feasible then we’ll make it happen.We value diversity in all its facets, including gender, dis/ability, age, ethnicity, sexual orientation and identity. When it comes to finding a diverse balance for our senior positions, we have decided to address gender and ethnicity first. As such we are committed to offering an interview to at least one BAME and one female candidate for all senior leadership positions if they fulfil the role criteria.We are recognised externally for our commitment to inclusion as a Stonewall Top 100 employer, and a Disability Confident (Committed) employer.We expect all our employees to support our environmental policy and social responsibility work. We are an employer committed to environmental and social responsibility.At the foundation of everything that we do are our corporate values and associated behaviours. Our organisational behavioural framework outlines the core expectations of all employees, which should always be demonstrated when representing L&Q. More information about L&Q’s values can be found on our website and a copy of our behavioural framework can be provided on request.Reference ID: 2381Contract length: 30 monthsJob Types: Full-time, ContractSalary: £27,000.00 per yearBenefits:Company pensionLife insuranceOn-site parkingReferral programmeSick payWellness programmesWork from homeSchedule:8 hour shiftMonday to FridayCOVID-19 considerations:The safety of our staff and our candidates is of the utmost importance. Every effort will be taken to ensure that safe ways of working are adopted throughout the Recruitment and Selection process.Work remotely:Temporarily due to COVID-19\n"
     ]
    },
    {
     "name": "stderr",
     "output_type": "stream",
     "text": [
      "/Users/gnuthall/anaconda3/lib/python3.8/site-packages/selenium/webdriver/phantomjs/webdriver.py:49: UserWarning: Selenium support for PhantomJS has been deprecated, please use headless versions of Chrome or Firefox instead\n",
      "  warnings.warn('Selenium support for PhantomJS has been deprecated, please use headless '\n"
     ]
    },
    {
     "name": "stdout",
     "output_type": "stream",
     "text": [
      "This is an opportunity to become a Data Scientist\\ML Engineer and to become an integral part of our team. Being a data scientist would require the ability to analyse big data sets coming from heterogeneous producers both in real time and offline, as well as to apply complex algorithms producing readable reports using BI tools and online KPIs integrated with operational systems. Our data scientist should be very good at working and communicating within an existing team and collaborate on a daily basis.\n",
      "\n",
      "Responsibilities:\n",
      "Ability to analyse big data sets coming from heterogeneous producers both in real time and offline.\n",
      "Apply complex algorithms producing readable reports using BI tools and online KPIs\n",
      "Creating machine learning tools to generate predictions and insights\n",
      "Apply deep learning techniques in a commercial setting\n",
      "Required Skills and Experience:\n",
      "University degree in a scientific field (Maths, Statistics, Computer Science, Data Science)\n",
      "Knowledge of Python and SQL\n",
      "Knowledge of the following algorithms:\n",
      "Linear and logistic regression\n",
      "LDA\n",
      "SVM\n",
      "K-nearest neighbors\n",
      "K-means clustering\n",
      "Classification and Regression trees\n",
      "Naive Bayes\n",
      "Ideally Applicants have:\n",
      "A high level of mathematical ability\n",
      "Thorough grounding in statistics\n",
      "Problem solving skills on high level\n",
      "Methodical and logical approach\n",
      "Accuracy and attention to detail\n",
      "Natural passion for data analytics\n",
      "If you feel you have the knowledge and skills to excel in this role, we would love to hear from you. To apply through email, click the \"Apply\" button or address an email to:\n",
      "‍\n",
      "recruitment@novafutur.com\n",
      "‍\n",
      "Subject Line: Date (DD/MM/YYYY) Last Name, Job Title\n",
      "Include: Resume, Cover letter\n"
     ]
    },
    {
     "name": "stderr",
     "output_type": "stream",
     "text": [
      "/Users/gnuthall/anaconda3/lib/python3.8/site-packages/selenium/webdriver/phantomjs/webdriver.py:49: UserWarning: Selenium support for PhantomJS has been deprecated, please use headless versions of Chrome or Firefox instead\n",
      "  warnings.warn('Selenium support for PhantomJS has been deprecated, please use headless '\n"
     ]
    },
    {
     "name": "stdout",
     "output_type": "stream",
     "text": [
      "We are looking for a Data Scientist to join our growing product and data team based either remotely or in central London.Link Humans is a data-driven research firm with a clear mission: To Make the World of Work a Better Place. We help Fortune 500 companies understand their employer reputation to attract and retain the best talent.ResponsibilitiesImprove Data Processing & Automation capabilitiesBuilding, training, and deploying NLP ModelsBuilding tools to support data analystsMaintaining and improving existing modelsRequired skillsProficient with PythonHands-on experience with Machine Learning frameworks (like scikit-learn, Tensorflow or PyTorch)Experience with NLP libraries (like NLTK, spaCy, openNLP, Stanford-NLP, WordNet)Has built an NLP program either as part of a course or professionallyProficient experience with BI Tools (PowerBI, Tableau, etc.)Experience or knowledge of Google ColabExperience or knowledge of Google cloud platform and AWS would be beneficial but not requiredAbility to work independently.Job Types: Full-time, PermanentSalary: £25,000.00-£30,000.00 per yearAdditional pay:Bonus schemeBenefits:Additional leaveCasual dressCompany eventsCompany pensionFlexible scheduleSick payWork from homeSchedule:Monday to FridayWork remotely:Yes\n"
     ]
    },
    {
     "name": "stderr",
     "output_type": "stream",
     "text": [
      "/Users/gnuthall/anaconda3/lib/python3.8/site-packages/selenium/webdriver/phantomjs/webdriver.py:49: UserWarning: Selenium support for PhantomJS has been deprecated, please use headless versions of Chrome or Firefox instead\n",
      "  warnings.warn('Selenium support for PhantomJS has been deprecated, please use headless '\n"
     ]
    },
    {
     "name": "stdout",
     "output_type": "stream",
     "text": [
      "Can you drive measurable business value through the applied use of data science?\n",
      "Can you apply data science across a variety of areas to better understand our customers and help develop the builders of tomorrow? Come apply now and join our awesome Data Science Team!\n",
      "Core ResponsibilitiesData manipulation: Be comfortable in querying large datasets, with the ability to help manipulate and construct the right data structures starting with the end in mind. With an eye for data quality to ensure rigour of input data going into models.Maintenance: Have a good blend of data science with data engineering concepts in order to help monitoring and maintenance of model production pipelines, including implementation of error handling and testing of analytics code.Partner management: Being able to connect with different levels of people and gather their needsStorytelling: Ability to translate data science concepts into business language and build a compelling storyline from itData visualisation: Work with others to craft, deploy and maintain online tools and dashboards to be consumed by different parts of the businessData experimentation: Eager to learn and/or challenge existing forecast models and apply machine learning techniques\n",
      "Play your part in our team succeeding\n",
      "We need data science capabilities to discover deeper insights, make predictions, and generate recommendations in a rapidly growing Big Data reality. Using data to drive business decisions and understand customer behaviour is a key strategic focus for us. Data Science is all about using scientific method to tackle business problems. This will help transform the clock-speed of the organisation by enabling insights in near real-time, so that the lead-time to action is as short as possible. This team works with a wide range of business partners, with this role having particular focus on Demand Forecasting. You are able to translate technical content to business audiences in a way that delivers the most value and champion a data driven culture!\n",
      "Do you have what it takes?BSc or MSc degree with emphasis on one or more of the following: data science, economics, econometrics, computer science, computer engineering, statistics, mathematics or equivalent quantitative studies (advantage: PhD studies)A couple years working experience with the knowledge of R & Python (R preferred) & comfortable in using SQL/HQL (Hadoop, Hive)Experience in data visualisation, preferably with Tableau and/or ShinyExperience with working in agile environments (e.g. SCRUM teams) would be a plusInterest and/or experience with forecasting techniques would also be a plusFluent in English both written and spoken\n",
      "Join the global LEGO® family\n",
      "Children are our role models. Their curiosity, creativity and imagination inspire everything we do. We strive to create a diverse, dynamic and inclusive culture of play at the LEGO Group, where everyone feels safe, valued and they belong.\n",
      "The LEGO Group is proud to be an equal opportunity and an affirmative action employer. We are committed to equal employment opportunity regardless of race, color, ancestry, religion, sex, national origin, sexual orientation, age, citizenship, marital status, disability, gender identity or Veteran status.\n",
      "We support our employees in being there for the moments that matter in life and celebrate families of all kinds, the loved ones that make us who we are. Being part of the LEGO Group also means taking part in our annual Play Day, playing a part in building a sustainable future and continuing our mission to “inspire and develop the builders of tomorrow.”\n",
      "Build your career brick by brick at The LEGO Group.\n",
      "\n",
      "#LI-BL1\n",
      "LocationUnited Kingdom, London, Greater LondonDenmark\n",
      "Job ID\n",
      "GB5764\n",
      "CategoryDigital Technology\n",
      "Language\n",
      "EN\n"
     ]
    },
    {
     "name": "stderr",
     "output_type": "stream",
     "text": [
      "/Users/gnuthall/anaconda3/lib/python3.8/site-packages/selenium/webdriver/phantomjs/webdriver.py:49: UserWarning: Selenium support for PhantomJS has been deprecated, please use headless versions of Chrome or Firefox instead\n",
      "  warnings.warn('Selenium support for PhantomJS has been deprecated, please use headless '\n"
     ]
    },
    {
     "ename": "KeyboardInterrupt",
     "evalue": "",
     "output_type": "error",
     "traceback": [
      "\u001b[0;31m---------------------------------------------------------------------------\u001b[0m",
      "\u001b[0;31mKeyboardInterrupt\u001b[0m                         Traceback (most recent call last)",
      "\u001b[0;32m<ipython-input-2-08d5b22e1dbf>\u001b[0m in \u001b[0;36m<module>\u001b[0;34m\u001b[0m\n\u001b[1;32m     38\u001b[0m                 \u001b[0murl\u001b[0m \u001b[0;34m=\u001b[0m \u001b[0;34mf\"{url}&advn={param_2}\"\u001b[0m\u001b[0;34m\u001b[0m\u001b[0;34m\u001b[0m\u001b[0m\n\u001b[1;32m     39\u001b[0m \u001b[0;34m\u001b[0m\u001b[0m\n\u001b[0;32m---> 40\u001b[0;31m             \u001b[0mbrowser\u001b[0m \u001b[0;34m=\u001b[0m \u001b[0mwebdriver\u001b[0m\u001b[0;34m.\u001b[0m\u001b[0mPhantomJS\u001b[0m\u001b[0;34m(\u001b[0m\u001b[0;34m)\u001b[0m\u001b[0;34m\u001b[0m\u001b[0;34m\u001b[0m\u001b[0m\n\u001b[0m\u001b[1;32m     41\u001b[0m             \u001b[0mbrowser\u001b[0m\u001b[0;34m.\u001b[0m\u001b[0mget\u001b[0m\u001b[0;34m(\u001b[0m\u001b[0murl\u001b[0m\u001b[0;34m)\u001b[0m\u001b[0;34m\u001b[0m\u001b[0;34m\u001b[0m\u001b[0m\n\u001b[1;32m     42\u001b[0m             \u001b[0mhtml\u001b[0m \u001b[0;34m=\u001b[0m \u001b[0mbrowser\u001b[0m\u001b[0;34m.\u001b[0m\u001b[0mpage_source\u001b[0m\u001b[0;34m\u001b[0m\u001b[0;34m\u001b[0m\u001b[0m\n",
      "\u001b[0;32m~/anaconda3/lib/python3.8/site-packages/selenium/webdriver/phantomjs/webdriver.py\u001b[0m in \u001b[0;36m__init__\u001b[0;34m(self, executable_path, port, desired_capabilities, service_args, service_log_path)\u001b[0m\n\u001b[1;32m     54\u001b[0m             \u001b[0mservice_args\u001b[0m\u001b[0;34m=\u001b[0m\u001b[0mservice_args\u001b[0m\u001b[0;34m,\u001b[0m\u001b[0;34m\u001b[0m\u001b[0;34m\u001b[0m\u001b[0m\n\u001b[1;32m     55\u001b[0m             log_path=service_log_path)\n\u001b[0;32m---> 56\u001b[0;31m         \u001b[0mself\u001b[0m\u001b[0;34m.\u001b[0m\u001b[0mservice\u001b[0m\u001b[0;34m.\u001b[0m\u001b[0mstart\u001b[0m\u001b[0;34m(\u001b[0m\u001b[0;34m)\u001b[0m\u001b[0;34m\u001b[0m\u001b[0;34m\u001b[0m\u001b[0m\n\u001b[0m\u001b[1;32m     57\u001b[0m \u001b[0;34m\u001b[0m\u001b[0m\n\u001b[1;32m     58\u001b[0m         \u001b[0;32mtry\u001b[0m\u001b[0;34m:\u001b[0m\u001b[0;34m\u001b[0m\u001b[0;34m\u001b[0m\u001b[0m\n",
      "\u001b[0;32m~/anaconda3/lib/python3.8/site-packages/selenium/webdriver/common/service.py\u001b[0m in \u001b[0;36mstart\u001b[0;34m(self)\u001b[0m\n\u001b[1;32m    100\u001b[0m                 \u001b[0;32mbreak\u001b[0m\u001b[0;34m\u001b[0m\u001b[0;34m\u001b[0m\u001b[0m\n\u001b[1;32m    101\u001b[0m             \u001b[0mcount\u001b[0m \u001b[0;34m+=\u001b[0m \u001b[0;36m1\u001b[0m\u001b[0;34m\u001b[0m\u001b[0;34m\u001b[0m\u001b[0m\n\u001b[0;32m--> 102\u001b[0;31m             \u001b[0mtime\u001b[0m\u001b[0;34m.\u001b[0m\u001b[0msleep\u001b[0m\u001b[0;34m(\u001b[0m\u001b[0;36m1\u001b[0m\u001b[0;34m)\u001b[0m\u001b[0;34m\u001b[0m\u001b[0;34m\u001b[0m\u001b[0m\n\u001b[0m\u001b[1;32m    103\u001b[0m             \u001b[0;32mif\u001b[0m \u001b[0mcount\u001b[0m \u001b[0;34m==\u001b[0m \u001b[0;36m30\u001b[0m\u001b[0;34m:\u001b[0m\u001b[0;34m\u001b[0m\u001b[0;34m\u001b[0m\u001b[0m\n\u001b[1;32m    104\u001b[0m                 \u001b[0;32mraise\u001b[0m \u001b[0mWebDriverException\u001b[0m\u001b[0;34m(\u001b[0m\u001b[0;34m\"Can not connect to the Service %s\"\u001b[0m \u001b[0;34m%\u001b[0m \u001b[0mself\u001b[0m\u001b[0;34m.\u001b[0m\u001b[0mpath\u001b[0m\u001b[0;34m)\u001b[0m\u001b[0;34m\u001b[0m\u001b[0;34m\u001b[0m\u001b[0m\n",
      "\u001b[0;31mKeyboardInterrupt\u001b[0m: "
     ]
    }
   ],
   "source": [
    "from bs4 import BeautifulSoup\n",
    "from selenium import webdriver\n",
    "\n",
    "import re\n",
    "\n",
    "start_count = 0\n",
    "data = []\n",
    "nopages = 1\n",
    "\n",
    "while start_count < nopages:\n",
    "    advn = [] # for older adverts, only new ones dont have this number\n",
    "    vjk = []\n",
    "    \n",
    "    base_url = \"https://uk.indeed.com/jobs?q=data%20scientist\"\n",
    "    \n",
    "    if start_count > 0:\n",
    "            base_url = f\"https://uk.indeed.com/jobs?q=data%20scientist&start={start_count}\"\n",
    "            \n",
    "    # https://stackoverflow.com/questions/45448994/wait-page-to-load-before-getting-data-with-requests-get-in-python-3\n",
    "    browser = webdriver.PhantomJS()\n",
    "    browser.get(base_url)\n",
    "    html = browser.page_source\n",
    "    soup = BeautifulSoup(html, 'lxml')\n",
    "    \n",
    "    nojobs = soup.find('div', {'id': 'searchCountPages'}).get_text()\n",
    "    nojobs_f = float(re.findall('(?<=f).*(?=j)', nojobs)[0].replace(',', ''))\n",
    "    nopages = nojobs_f * 10 - 10\n",
    "    \n",
    "    jobs = soup.find_all('a',{\"class\": \"tapItem\"})\n",
    "\n",
    "    for job in jobs:\n",
    "        advn.append(job.get('data-empn'))\n",
    "        vjk.append(job.get('data-jk'))\n",
    "    \n",
    "    for param_1, param_2 in list(zip(vjk,advn)):\n",
    "            url = f\"{base_url}&vjk={param_1}\"\n",
    "            if param_2 != None:\n",
    "                url = f\"{url}&advn={param_2}\"\n",
    "\n",
    "            browser = webdriver.PhantomJS()\n",
    "            browser.get(url)\n",
    "            html = browser.page_source\n",
    "            soup = BeautifulSoup(html, 'lxml')\n",
    "\n",
    "            info_panel = soup.find('div', {'class': 'jobsearch-ViewJobLayout'})\n",
    "            title = info_panel.find('div', {'class': 'jobsearch-JobInfoHeader-title-container'})\n",
    "            company_and_rate = info_panel.find('div', {'class': 'jobsearch-InlineCompanyRating'})\n",
    "            for child in company_and_rate.find_all('div'):\n",
    "                if(child.find('a')):\n",
    "                    company = child.find('a')\n",
    "                else:\n",
    "                    company = child\n",
    "                break\n",
    "            description = info_panel.find('div', {'class': 'jobsearch-jobDescriptionText'})\n",
    "            \n",
    "            print(description.get_text())\n",
    "            \n",
    "            data.append([url, title.get_text(), company.get_text(), description.get_text().replace('\\n','')])\n",
    "\n",
    "            url = base_url\n",
    "            \n",
    "    start_count += 10"
   ]
  },
  {
   "cell_type": "code",
   "execution_count": 5,
   "metadata": {},
   "outputs": [],
   "source": [
    "import csv\n",
    "\n",
    "with open('datasciencejobs.csv', 'w') as csvfile:\n",
    "    spamwriter = csv.writer(csvfile, delimiter='\\t',\n",
    "                            quotechar='|', quoting=csv.QUOTE_MINIMAL)\n",
    "    spamwriter.writerow([\"URL\", \"Job Title\", \"Company\", \"Description\"])\n",
    "    for i in data:\n",
    "        spamwriter.writerow(i)"
   ]
  },
  {
   "cell_type": "code",
   "execution_count": 6,
   "metadata": {},
   "outputs": [
    {
     "data": {
      "text/html": [
       "<div>\n",
       "<style scoped>\n",
       "    .dataframe tbody tr th:only-of-type {\n",
       "        vertical-align: middle;\n",
       "    }\n",
       "\n",
       "    .dataframe tbody tr th {\n",
       "        vertical-align: top;\n",
       "    }\n",
       "\n",
       "    .dataframe thead th {\n",
       "        text-align: right;\n",
       "    }\n",
       "</style>\n",
       "<table border=\"1\" class=\"dataframe\">\n",
       "  <thead>\n",
       "    <tr style=\"text-align: right;\">\n",
       "      <th></th>\n",
       "      <th>URL</th>\n",
       "      <th>Job Title</th>\n",
       "      <th>Company</th>\n",
       "      <th>Description</th>\n",
       "    </tr>\n",
       "  </thead>\n",
       "  <tbody>\n",
       "    <tr>\n",
       "      <th>0</th>\n",
       "      <td>https://uk.indeed.com/jobs?q=data%20scientist&amp;...</td>\n",
       "      <td>NLP Data Scientist</td>\n",
       "      <td>Qualimental Technologies</td>\n",
       "      <td>UK based applicants onlyWho we areWe are a gro...</td>\n",
       "    </tr>\n",
       "    <tr>\n",
       "      <th>1</th>\n",
       "      <td>https://uk.indeed.com/jobs?q=data%20scientist&amp;...</td>\n",
       "      <td>Data Scientist</td>\n",
       "      <td>Just eat Takeaway.com</td>\n",
       "      <td>Data ScientistAre you passionate about food te...</td>\n",
       "    </tr>\n",
       "    <tr>\n",
       "      <th>2</th>\n",
       "      <td>https://uk.indeed.com/jobs?q=data%20scientist&amp;...</td>\n",
       "      <td>Data Scientist, Python, R, Pharmaceutical</td>\n",
       "      <td>Corriculo</td>\n",
       "      <td>Salary: £30k - 38k per year + BenefitsReferenc...</td>\n",
       "    </tr>\n",
       "    <tr>\n",
       "      <th>3</th>\n",
       "      <td>https://uk.indeed.com/jobs?q=data%20scientist&amp;...</td>\n",
       "      <td>2022 Graduate Data Scientist</td>\n",
       "      <td>Sagentia</td>\n",
       "      <td>Are you an enthusiastic and curious individual...</td>\n",
       "    </tr>\n",
       "    <tr>\n",
       "      <th>4</th>\n",
       "      <td>https://uk.indeed.com/jobs?q=data%20scientist&amp;...</td>\n",
       "      <td>Data &amp; Analytics - Graduate Programme</td>\n",
       "      <td>NatWest Group</td>\n",
       "      <td>Our people work differently depending on their...</td>\n",
       "    </tr>\n",
       "    <tr>\n",
       "      <th>5</th>\n",
       "      <td>https://uk.indeed.com/jobs?q=data%20scientist&amp;...</td>\n",
       "      <td>Graduate Data Scientist</td>\n",
       "      <td>L&amp;Q</td>\n",
       "      <td>Data Science GraduateContract: 30 monthsHours:...</td>\n",
       "    </tr>\n",
       "    <tr>\n",
       "      <th>6</th>\n",
       "      <td>https://uk.indeed.com/jobs?q=data%20scientist&amp;...</td>\n",
       "      <td>Junior Data Scientist</td>\n",
       "      <td>Novafutur</td>\n",
       "      <td>This is an opportunity to become a Data Scient...</td>\n",
       "    </tr>\n",
       "    <tr>\n",
       "      <th>7</th>\n",
       "      <td>https://uk.indeed.com/jobs?q=data%20scientist&amp;...</td>\n",
       "      <td>Data Scientist</td>\n",
       "      <td>Link Humans</td>\n",
       "      <td>We are looking for a Data Scientist to join ou...</td>\n",
       "    </tr>\n",
       "    <tr>\n",
       "      <th>8</th>\n",
       "      <td>https://uk.indeed.com/jobs?q=data%20scientist&amp;...</td>\n",
       "      <td>Data Scientist</td>\n",
       "      <td>LEGO</td>\n",
       "      <td>Can you drive measurable business value throug...</td>\n",
       "    </tr>\n",
       "  </tbody>\n",
       "</table>\n",
       "</div>"
      ],
      "text/plain": [
       "                                                 URL  \\\n",
       "0  https://uk.indeed.com/jobs?q=data%20scientist&...   \n",
       "1  https://uk.indeed.com/jobs?q=data%20scientist&...   \n",
       "2  https://uk.indeed.com/jobs?q=data%20scientist&...   \n",
       "3  https://uk.indeed.com/jobs?q=data%20scientist&...   \n",
       "4  https://uk.indeed.com/jobs?q=data%20scientist&...   \n",
       "5  https://uk.indeed.com/jobs?q=data%20scientist&...   \n",
       "6  https://uk.indeed.com/jobs?q=data%20scientist&...   \n",
       "7  https://uk.indeed.com/jobs?q=data%20scientist&...   \n",
       "8  https://uk.indeed.com/jobs?q=data%20scientist&...   \n",
       "\n",
       "                                   Job Title                   Company  \\\n",
       "0                         NLP Data Scientist  Qualimental Technologies   \n",
       "1                             Data Scientist     Just eat Takeaway.com   \n",
       "2  Data Scientist, Python, R, Pharmaceutical                 Corriculo   \n",
       "3               2022 Graduate Data Scientist                  Sagentia   \n",
       "4      Data & Analytics - Graduate Programme             NatWest Group   \n",
       "5                    Graduate Data Scientist                       L&Q   \n",
       "6                      Junior Data Scientist                 Novafutur   \n",
       "7                             Data Scientist               Link Humans   \n",
       "8                             Data Scientist                      LEGO   \n",
       "\n",
       "                                         Description  \n",
       "0  UK based applicants onlyWho we areWe are a gro...  \n",
       "1  Data ScientistAre you passionate about food te...  \n",
       "2  Salary: £30k - 38k per year + BenefitsReferenc...  \n",
       "3  Are you an enthusiastic and curious individual...  \n",
       "4  Our people work differently depending on their...  \n",
       "5  Data Science GraduateContract: 30 monthsHours:...  \n",
       "6  This is an opportunity to become a Data Scient...  \n",
       "7  We are looking for a Data Scientist to join ou...  \n",
       "8  Can you drive measurable business value throug...  "
      ]
     },
     "execution_count": 6,
     "metadata": {},
     "output_type": "execute_result"
    }
   ],
   "source": [
    "import pandas as pd\n",
    "\n",
    "df = pd.read_csv('datasciencejobs.csv',  sep='\\t')\n",
    "df"
   ]
  },
  {
   "cell_type": "code",
   "execution_count": null,
   "metadata": {},
   "outputs": [],
   "source": []
  }
 ],
 "metadata": {
  "kernelspec": {
   "display_name": "Python 3",
   "language": "python",
   "name": "python3"
  },
  "language_info": {
   "codemirror_mode": {
    "name": "ipython",
    "version": 3
   },
   "file_extension": ".py",
   "mimetype": "text/x-python",
   "name": "python",
   "nbconvert_exporter": "python",
   "pygments_lexer": "ipython3",
   "version": "3.8.5"
  }
 },
 "nbformat": 4,
 "nbformat_minor": 4
}
