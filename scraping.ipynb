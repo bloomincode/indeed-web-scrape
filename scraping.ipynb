{
 "cells": [
  {
   "cell_type": "code",
   "execution_count": 1,
   "metadata": {
    "scrolled": true
   },
   "outputs": [
    {
     "name": "stderr",
     "output_type": "stream",
     "text": [
      "/Users/gnuthall/anaconda3/lib/python3.8/site-packages/selenium/webdriver/phantomjs/webdriver.py:49: UserWarning: Selenium support for PhantomJS has been deprecated, please use headless versions of Chrome or Firefox instead\n",
      "  warnings.warn('Selenium support for PhantomJS has been deprecated, please use headless '\n",
      "/Users/gnuthall/anaconda3/lib/python3.8/site-packages/selenium/webdriver/phantomjs/webdriver.py:49: UserWarning: Selenium support for PhantomJS has been deprecated, please use headless versions of Chrome or Firefox instead\n",
      "  warnings.warn('Selenium support for PhantomJS has been deprecated, please use headless '\n"
     ]
    },
    {
     "name": "stdout",
     "output_type": "stream",
     "text": [
      "Junior Data Scientist At Imagine Communications our mission is to help our customers, we do this by delivering media software solutions. We are challenging the way our customers work and educating them on how to do it better. With a global team of dedicated employees, Imagine Communications is leading the way in a fast-changing industry.Why Imagine?Imagine Communications offers a generous pension to all our employees, private Medical and Dental. We like to make sure all our employees are safe when travelling so we’ve got travel insurance covered too. Employee Wellbeing is a priority for us, so all employees and their family have access to our EAP service. We have subsidised Gym membership, Life assurance and Group income protection.A bit about the role: Gameplan is Imagine’s cloud-based inventory optimisation solution. The sophisticated optimisation algorithm automatically places and removes advertising spots in such a way that our customers can reap the rewards of: maximising revenue; delivering on audience commitments with minimal wastage; minimising operational cost. As a Delivery and Optimisation Analyst, you will be operating GamePlan on behalf of our customers. You will:· Elicit feedback from customers deciphering what their specific business goals are and determine an optimal GamePlan configuration strategy to achieve those goals· Analyze customers’ as-is position, understanding their current utilization of advertising optimization software and calculating productivity and effectiveness metrics· Perform GamePlan optimisation ‘runs’ with customized settings designed to yield the best results for the specific customer· Interpret and analyse the system reporting metrics to gain insight areas for potential improvement· Evaluate optimization metrics for each customer engagement and track progress against service guarantees· Develop and deliver summary presentations to internal stakeholders and customer teams· Communicate effectively and work in lockstep with customers’ Airtime Management teams to ensure alignment with changing business imperatives· Perform Proof of Concept exercises to effectively demonstrate the effectiveness of the GamePlan optimiser to potential customers· Liaise with engineering and product teams regularly to understand and/or influence new feature development which could improve the optimisation process· Clearly document your insights and working process to facilitate the swift onboarding of new team membersAbout You: · 4+ years’ experience in a data analyst role working within a customer environment to optimize business outcomes· Strong analytical skills, including the ability to synthesize and decipher data to solve problems, and the wherewithal to leverage insights to produce solutions· Loves numbers, analysis, and feels at home with a complex spreadsheet· Strong initiative and ability to work well under pressure while maintaining a good attitude.· Ability to work well independently; define/manage objectives in a fast paced, ever-changing environment.· Ability to collaborate within a team, and alongside key stakeholders from various internal groups.· Ability to prioritize multiple tasks and meet deadlines with demonstrated initiative.· Attention to detail and independent quality assurance of own work· Solid verbal and written communication skills.· Fast learner, eager to deepen knowledge and understanding of Imagine’s products and solutions as well as our customers’ operations and business prioritiesDesired Qualifications: · Bachelor’s degree (Economics, Mathematics, Engineering preferred)· Experience with SQL and other database management programmesCelebrating difference, together strongerAt Imagine Communications, we don’t just accept difference — we celebrate it, we support it, and we thrive on it for the benefit of our customers, our employees, our products, and our communities. We are committed to providing an environment of mutual respect. Imagine Communications is proud to be an equal opportunity workplace and is an affirmative action employer.Job Types: Full-time, PermanentSalary: £45,000.00-£55,000.00 per yearBenefits:Casual dressCompany eventsFlexible scheduleFree or subsidised travelLife insurancePrivate dental insurancePrivate medical insuranceWork from homeSchedule:8 hour shiftEducation:Bachelor's (preferred)\n"
     ]
    },
    {
     "name": "stderr",
     "output_type": "stream",
     "text": [
      "/Users/gnuthall/anaconda3/lib/python3.8/site-packages/selenium/webdriver/phantomjs/webdriver.py:49: UserWarning: Selenium support for PhantomJS has been deprecated, please use headless versions of Chrome or Firefox instead\n",
      "  warnings.warn('Selenium support for PhantomJS has been deprecated, please use headless '\n"
     ]
    },
    {
     "name": "stdout",
     "output_type": "stream",
     "text": [
      "Data Scientist (Football) Data Scientist - FootballPythia Sports are looking for a creative thinking and experienced person to join their established in-house modelling team as a Data Scientist in football modelling and simulation. The purpose of the role is to develop and conduct statistical analysis of predictive models for a football prediction pipeline.As a Data Scientist you will:Have a deep understanding of the data, its limitations and meaning, including the investigation of data validityBuild and maintain data-driven predictive modelsResearch and apply novel modelling techniquesBuild and maintain model validation metrics to regularly track performanceHave awareness of the limitations of any model outputHave an understanding of statistical robustness and validity.Key Skills / QualificationsExperience using advanced statistics and modelling techniques – preferably in sports fieldPhD or equivalent industry experience with dataStrong programming skills, with a preference for (but not limited to) Matlab, Python and RA track record of using data to solve complex problemsA knowledge and interest in sport will be helpfulExperience working with cloud computing (desirable).Candidate OverviewThe successful Data Scientist will be an innovative, self-driven person with high levels of integrity. They will be working closely with local and remote teams and therefore need to be highly communicative, but also work well independently. They must be well organised and have the ability to handle multiple projects simultaneously.Company OverviewPythia Sports is a fast growing technology company with a focus on predictive sports modelling and data collection. We focus on being the best at what we do and recognise that our success comes from having the best employees and keeping them happy. We pride ourselves on hiring talented, creative and free thinkers.Here you will find a relaxed atmosphere, monthly social events and amazing people! If working from the office, there are also free healthy snacks, fruits, coffee, tea and beer. That's of course once things get back to \"normal\" and we are back to the office a few days a week, as most of us are currently working fully from home - future home working can be considered as well.We also offer private health and dental insurance, cycle to work scheme, enhanced paternity and maternity leave, enhanced sick pay, increased holiday allowance, discretionary annual bonus and exciting development opportunities.Pythia Sports employees are expected to embrace the company philosophy of integrity combined with innovation and cutting edge technologyJob Types: Full-time, PermanentAdditional pay:Bonus schemeBenefits:Additional leaveCasual dressCompany eventsCompany pensionCycle to work schemeFlexible schedulePrivate dental insurancePrivate medical insuranceReferral programmeSick payWork from homeSchedule:Monday to FridayCOVID-19 considerations:We are currently working from home and expected to start attending office once a week in the next few months.Application question(s):DO you have experience with sports data modelling?Education:Master's (preferred)Work authorisation:United Kingdom (required)Reference ID: Football\n"
     ]
    },
    {
     "name": "stderr",
     "output_type": "stream",
     "text": [
      "/Users/gnuthall/anaconda3/lib/python3.8/site-packages/selenium/webdriver/phantomjs/webdriver.py:49: UserWarning: Selenium support for PhantomJS has been deprecated, please use headless versions of Chrome or Firefox instead\n",
      "  warnings.warn('Selenium support for PhantomJS has been deprecated, please use headless '\n"
     ]
    },
    {
     "name": "stdout",
     "output_type": "stream",
     "text": [
      "Data Scientist - Fin-Tech Bank - Remote\n",
      "\n",
      "(Tech Stack: Data Scientist, Python, SQL, Machine Learning, Data Scientist)\n",
      "\n",
      "My Client is a world leading bank making big moves in the Fin-Tech industry. They fully embrace the working from home culture and this will not be going away after COVID; the role is 100% remote.\n",
      "\n",
      "Due to rapid expansion they are currently looking to add a Data Scientist (Python, SQL, Machine Learning) to their team who will be working on insanely big sets of financial data and unearthing a large amount of analytic-driven value from them.\n",
      "\n",
      "The successful Data Scientist will have the following:\n",
      "A STEM degreePython experienceExperience with both SQL and visualisation toolsExperience and a passion for machine learningKnowledge of hypothesis (A/b) testing\n",
      "\n",
      "The Data Scientist role comes with the following:\n",
      "Salary up to £80k.44 days of annual leave (including bank holidays)\n",
      "Ability to work fully remoteFlexible workingMany more benefits\n",
      "\n",
      "Location: Remote\n",
      "\n",
      "Salary: Up to £80,000.\n",
      "\n",
      "To apply for this role please send your CV to Rishi Chudasama at Noir.\n",
      "\n",
      "Noir continues to be the leading Microsoft recruitment agency; we can help you make the right career decisions!\n",
      "\n",
      "NC/RC/DS1\n"
     ]
    },
    {
     "name": "stderr",
     "output_type": "stream",
     "text": [
      "/Users/gnuthall/anaconda3/lib/python3.8/site-packages/selenium/webdriver/phantomjs/webdriver.py:49: UserWarning: Selenium support for PhantomJS has been deprecated, please use headless versions of Chrome or Firefox instead\n",
      "  warnings.warn('Selenium support for PhantomJS has been deprecated, please use headless '\n"
     ]
    },
    {
     "name": "stdout",
     "output_type": "stream",
     "text": [
      "Data Science, Analytics, Business Intelligence\n",
      "Python, R, Statistics, Pricing\n",
      "About Our Client\n",
      "My client, a global leader in the automotive space have partnered with Michael Page in their search for a Data Scientist to join their analytics function.\n",
      "\n",
      "Job Description\n",
      "Ability to solve complex business problems using analytical approaches with a unique blend of quantitative, mathematical and technical skills.\n",
      "Excellent understanding of machine learning techniques and algorithms.\n",
      "Knowledge of software engineering best practices such as requirements analysis, system design, modularity, version control, testing, documentation, etc.\n",
      "An enthusiastic self-starter with drive for results\n",
      "Proven experience with data-oriented scripting (e.g. SQL), statistical programming (e.g., python or R) and big data frameworks.\n",
      "Experience with data visualization tools, such as D3.js, R Shiny, Python dash, Power BI etc.\n",
      "Strong knowledge of and experience with ML testing and deployment strategy\n",
      "The Successful Applicant\n",
      "Essential Skills:\n",
      "\n",
      "\n",
      "Python\n",
      "\n",
      "\n",
      "SQL Desirable Skills:\n",
      "\n",
      "\n",
      "AWS Stagemaker\n",
      "\n",
      "\n",
      "Power BI\n",
      "\n",
      "What's on Offer\n",
      "My client are offering a basic salary of up to £50,000 including a fantastic range of benefits including a bonus and remote working options.\n",
      "\n",
      "Contact\n",
      "Luke Stockbridge\n",
      "Quote job ref\n",
      "JN-082021-3563027\n",
      "Phone number\n",
      "+44 207 269 2212\n"
     ]
    },
    {
     "name": "stderr",
     "output_type": "stream",
     "text": [
      "/Users/gnuthall/anaconda3/lib/python3.8/site-packages/selenium/webdriver/phantomjs/webdriver.py:49: UserWarning: Selenium support for PhantomJS has been deprecated, please use headless versions of Chrome or Firefox instead\n",
      "  warnings.warn('Selenium support for PhantomJS has been deprecated, please use headless '\n"
     ]
    },
    {
     "name": "stdout",
     "output_type": "stream",
     "text": [
      "Data Scientist - £30-50K depending on experience, plus benefits.This global independent agency needs an amazing Data Scientist for the development of data & technology solutions to change knowledge, attitudes, and behaviours in target audience groups.This agency work with local partners and they are focused on tackling some of humanity's most challenging and important problems, in fragile states and developing countries. They aim to harness cutting-edge marketing, communications, and creativity, to foster behaviour change activity throughout the International Development sector.This role will involve using multiple sources of data, best practices, critical thinking, driving data initiatives, valuing data, developing tools and techniques, and bringing new forms of thinking and insight from adjacent disciplines, all to further the activities and goals of the agency and client.Key responsibilities:Bring best practices in data & tech, machine learning, dynamic creative optimization, and collaborate to create effective dissemination programs.Secure and timely data processing, maintaining extraction, transformation, and loading processes.Regression modelling and natural language process to drive development of machine learning and cloud computing.Partner internally and externally to build attitudinal, knowledge, and behaviour-based audience-targeting tools.Regularly support and report on measures of performance.Collaboration with creative, production, and project teams to guide and consult on optimization, implementation, and data output.Situational awareness of - Development sector best practices- Applying concepts of adjacent industries- Data & technological barriers, opportunities, innovations, and platforms in the region of interest.Requirements:Experience working in an agency or marketing environment as a data analystUnderstanding of social analytics, Google Analytics, and dealing with digital data from a marketing background.Knowledge of multiple forms of statistical modelling – both in development and the subsequent reporting of it.Skills in Python, SQL, Double Click Manager, Cloud computing (AWS) in particular Batch, Lambda, RDS.Experience in creating and implementing effective, business-wide data programs.Knowledge of fundamental techniques, tools, and practices of statistical modelling and data management.Experience in using cloud-based machine learning including Natural Language Processing and visual recognition software.Ability to craft and present simple solutions to a highly complex problem in oral, written, and presentation forms.This agency department is hiring at different levels of data scientists, depending on your seniority you will also be responsible for training and guiding junior data scientists.This agency offers flexible working and generous benefits.Please also look at www.air-recruitment.comJob Types: Full-time, PermanentSalary: £35,000.00-£60,000.00 per yearSchedule:Monday to FridayEducation:Master's (preferred)Reference ID: ILS014\n"
     ]
    },
    {
     "name": "stderr",
     "output_type": "stream",
     "text": [
      "/Users/gnuthall/anaconda3/lib/python3.8/site-packages/selenium/webdriver/phantomjs/webdriver.py:49: UserWarning: Selenium support for PhantomJS has been deprecated, please use headless versions of Chrome or Firefox instead\n",
      "  warnings.warn('Selenium support for PhantomJS has been deprecated, please use headless '\n"
     ]
    },
    {
     "name": "stdout",
     "output_type": "stream",
     "text": [
      "Contract: 12-month fixed term to start; may be extended\n",
      "Hours: 28 hours per week\n",
      "Location: London, N7\n",
      "Salary: £39,120 pro rata per annum (actual salary £31,296 per annum) Please note the salary is inclusive of London Weighting.\n",
      "Closing date: 12pm on Monday 24th January\n",
      "Expected date of interviews: W/C 7th February\n",
      "\n",
      "We have an exciting opportunity for a Data Scientist to join our team. This is a new role at Freedom from Torture, and is an exciting time to join us, as we start our next four year strategy.\n",
      "\n",
      "About the role\n",
      "\n",
      "With organisational aspirations to be a recognised centre of excellence for our direct services, were looking for a creative and enthusiastic Data Scientist to join our clinical information team. You will play a key role in assisting us to reach the next level in our collection and use of data (with a focus on clinical) to demonstrate outcomes and support effective clinical and organisational decision-making. You will also provide support in our striving to stream-line processes and gain internal efficiencies.\n",
      "\n",
      "About you\n",
      "\n",
      "You will have a deep understanding of data and analytics, preferably in a health or social science context. You will have experience of a number of different tools and techniques to support better data collection and clear reporting. You will be a curious, flexible thinker, with excellent statistical technical and interpersonal skills. Organised, you will demonstrate a flair for problem solving and also for creating reusable tools to help others. You will be a champion of, and promote the use of data to define, manage and achieve departmental targets.\n",
      "\n",
      "In return, we offer a competitive package, with a generous 30-day annual leave entitlement, and 6% employer pension contribution.\n",
      "\n",
      "\n",
      "To view the Job Description and Person Specification, please click here\n",
      "\n",
      "Please note a CV and a cover letter addressing the job description and person specification of the role are mandatory to be considered for the position.\n",
      "About Freedom from Torture\n",
      "\n",
      "Freedom from Torture is dedicated to healing and protecting people who have survived torture. We provide therapies to improve physical and mental health, we medically document torture, and we provide legal and welfare help. We expose torture globally, we fight to hold torturing states to account and we campaign for fairer treatment of torture survivors in the UK.\n",
      "\n",
      "We campaign for national and global change, using evidence from our services and survivor voices to protect and promote survivors' rights and hold torturing states to account. We are proud to play a significant role in the global anti-torture movement. Survivors, active and empowered, are at the centre of all of our work.\n",
      "\n",
      "Freedom from Torture is committed to its responsibilities under safeguarding, and expects all staff and volunteers to share this commitment. This post is subject to a satisfactory DBS disclosure, as well as a need for full employment history and up to date employment references.\n",
      "\n",
      "Freedom from Torture is an equal opportunity employer. People with lived experience of torture or asylum, from Black, Asian and minority ethnic backgrounds, LGBTQIA+ individuals and people with disabilities are strongly encouraged to apply.\n",
      "\n",
      "We reserve the right to close the vacancy early if we receive a high volume of applications.\n",
      "\n",
      "No agencies please.\n"
     ]
    },
    {
     "name": "stderr",
     "output_type": "stream",
     "text": [
      "/Users/gnuthall/anaconda3/lib/python3.8/site-packages/selenium/webdriver/phantomjs/webdriver.py:49: UserWarning: Selenium support for PhantomJS has been deprecated, please use headless versions of Chrome or Firefox instead\n",
      "  warnings.warn('Selenium support for PhantomJS has been deprecated, please use headless '\n"
     ]
    },
    {
     "name": "stdout",
     "output_type": "stream",
     "text": [
      "Salary\n",
      "Salary: Grade 08. £35,326 to £40,927 per annum (Pro rata, if part time) together with USS pension benefits\n",
      "Main Purpose of the Post\n",
      "Swansea University has formed a team of leading Data Scientists to focus on key deliverables that benefit the health of the nation. This multidisciplinary team works in a fast moving, agile environment and is committed to demonstrating the value of data science to a range of technical and non-technical audiences. Working in the purpose built Data Science building on Swansea University’s Singleton Park campus; the post holder will participate in innovative research, engage with partners, demonstrate both practical application and strategic expertise, and prioritise efforts and expertise to gain the significant impact.\n",
      "\n",
      "This post is an exciting opportunity for a data scientist/statistician to help inform urgent national policy decisions relating to COVID-19. The SAIL databank contains anonymised administrative and medical records for the population of Wales. This includes billions of primary care (general practice) records, millions of secondary care records (hospital admissions), and recently acquired COVID-19 specific datasets (e.g. testing, vaccination, mortality). Candidates will be utilising the SAIL databank and working alongside leading academics in population data science to create and analyse datasets relating to COVID-19.\n",
      "\n",
      "Example projects already identified include:\n",
      "1. Characterisation of Long COVID using routine data.\n",
      "2. Evaluation of impact of vaccination and specific therapies on COVID outcomes.\n",
      "3. Impact of service changes in NHS on population outcomes in the short, medium and long term, particularly focusing on cancer treatments where there have been very considerable delays in all parts of the patient journey.\"\n",
      "\n",
      "The University is committed to supporting and promoting equality and diversity in all of its practices and activities. We aim to establish an inclusive environment and welcome diverse applications from the following protected characteristics: age, disability, gender reassignment, marriage and civil partnership, pregnancy and maternity, race (including colour, nationality, ethnic and national origin), religion or belief, sex, sexual orientation.\n",
      "\n",
      "We have an under-representation of men in the area of research and would particularly welcome applications from men for this position. We also have an under representation of individuals from Black, Asian and Minority Ethnic (BAME) backgrounds and would encourage applications from these groups. Appointments will always be made on merit.\n",
      "\n",
      "The focus of the role would be to be part of a cross-sectoral team, working with the DPUK lead institution, University of Oxford, and many other of the consortium partners, to unlock the scientific potential of the cohort data held on the Data Portal, and to accelerate understanding of such data and the potential of linking such data to routine health records in order to improve the treatments and healthcare pathways for dementia and other neurological disorders.\n",
      "Informal enquiries contact details and further information\n",
      "For further information please contact Rowena Bailey r.bailey@swansea.ac.uk\n",
      "Job Reference: AC05039\n"
     ]
    },
    {
     "name": "stderr",
     "output_type": "stream",
     "text": [
      "/Users/gnuthall/anaconda3/lib/python3.8/site-packages/selenium/webdriver/phantomjs/webdriver.py:49: UserWarning: Selenium support for PhantomJS has been deprecated, please use headless versions of Chrome or Firefox instead\n",
      "  warnings.warn('Selenium support for PhantomJS has been deprecated, please use headless '\n"
     ]
    },
    {
     "ename": "KeyboardInterrupt",
     "evalue": "",
     "output_type": "error",
     "traceback": [
      "\u001b[0;31m---------------------------------------------------------------------------\u001b[0m",
      "\u001b[0;31mKeyboardInterrupt\u001b[0m                         Traceback (most recent call last)",
      "\u001b[0;32m<ipython-input-1-08d5b22e1dbf>\u001b[0m in \u001b[0;36m<module>\u001b[0;34m\u001b[0m\n\u001b[1;32m     39\u001b[0m \u001b[0;34m\u001b[0m\u001b[0m\n\u001b[1;32m     40\u001b[0m             \u001b[0mbrowser\u001b[0m \u001b[0;34m=\u001b[0m \u001b[0mwebdriver\u001b[0m\u001b[0;34m.\u001b[0m\u001b[0mPhantomJS\u001b[0m\u001b[0;34m(\u001b[0m\u001b[0;34m)\u001b[0m\u001b[0;34m\u001b[0m\u001b[0;34m\u001b[0m\u001b[0m\n\u001b[0;32m---> 41\u001b[0;31m             \u001b[0mbrowser\u001b[0m\u001b[0;34m.\u001b[0m\u001b[0mget\u001b[0m\u001b[0;34m(\u001b[0m\u001b[0murl\u001b[0m\u001b[0;34m)\u001b[0m\u001b[0;34m\u001b[0m\u001b[0;34m\u001b[0m\u001b[0m\n\u001b[0m\u001b[1;32m     42\u001b[0m             \u001b[0mhtml\u001b[0m \u001b[0;34m=\u001b[0m \u001b[0mbrowser\u001b[0m\u001b[0;34m.\u001b[0m\u001b[0mpage_source\u001b[0m\u001b[0;34m\u001b[0m\u001b[0;34m\u001b[0m\u001b[0m\n\u001b[1;32m     43\u001b[0m             \u001b[0msoup\u001b[0m \u001b[0;34m=\u001b[0m \u001b[0mBeautifulSoup\u001b[0m\u001b[0;34m(\u001b[0m\u001b[0mhtml\u001b[0m\u001b[0;34m,\u001b[0m \u001b[0;34m'lxml'\u001b[0m\u001b[0;34m)\u001b[0m\u001b[0;34m\u001b[0m\u001b[0;34m\u001b[0m\u001b[0m\n",
      "\u001b[0;32m~/anaconda3/lib/python3.8/site-packages/selenium/webdriver/remote/webdriver.py\u001b[0m in \u001b[0;36mget\u001b[0;34m(self, url)\u001b[0m\n\u001b[1;32m    331\u001b[0m         \u001b[0mLoads\u001b[0m \u001b[0ma\u001b[0m \u001b[0mweb\u001b[0m \u001b[0mpage\u001b[0m \u001b[0;32min\u001b[0m \u001b[0mthe\u001b[0m \u001b[0mcurrent\u001b[0m \u001b[0mbrowser\u001b[0m \u001b[0msession\u001b[0m\u001b[0;34m.\u001b[0m\u001b[0;34m\u001b[0m\u001b[0;34m\u001b[0m\u001b[0m\n\u001b[1;32m    332\u001b[0m         \"\"\"\n\u001b[0;32m--> 333\u001b[0;31m         \u001b[0mself\u001b[0m\u001b[0;34m.\u001b[0m\u001b[0mexecute\u001b[0m\u001b[0;34m(\u001b[0m\u001b[0mCommand\u001b[0m\u001b[0;34m.\u001b[0m\u001b[0mGET\u001b[0m\u001b[0;34m,\u001b[0m \u001b[0;34m{\u001b[0m\u001b[0;34m'url'\u001b[0m\u001b[0;34m:\u001b[0m \u001b[0murl\u001b[0m\u001b[0;34m}\u001b[0m\u001b[0;34m)\u001b[0m\u001b[0;34m\u001b[0m\u001b[0;34m\u001b[0m\u001b[0m\n\u001b[0m\u001b[1;32m    334\u001b[0m \u001b[0;34m\u001b[0m\u001b[0m\n\u001b[1;32m    335\u001b[0m     \u001b[0;34m@\u001b[0m\u001b[0mproperty\u001b[0m\u001b[0;34m\u001b[0m\u001b[0;34m\u001b[0m\u001b[0m\n",
      "\u001b[0;32m~/anaconda3/lib/python3.8/site-packages/selenium/webdriver/remote/webdriver.py\u001b[0m in \u001b[0;36mexecute\u001b[0;34m(self, driver_command, params)\u001b[0m\n\u001b[1;32m    317\u001b[0m \u001b[0;34m\u001b[0m\u001b[0m\n\u001b[1;32m    318\u001b[0m         \u001b[0mparams\u001b[0m \u001b[0;34m=\u001b[0m \u001b[0mself\u001b[0m\u001b[0;34m.\u001b[0m\u001b[0m_wrap_value\u001b[0m\u001b[0;34m(\u001b[0m\u001b[0mparams\u001b[0m\u001b[0;34m)\u001b[0m\u001b[0;34m\u001b[0m\u001b[0;34m\u001b[0m\u001b[0m\n\u001b[0;32m--> 319\u001b[0;31m         \u001b[0mresponse\u001b[0m \u001b[0;34m=\u001b[0m \u001b[0mself\u001b[0m\u001b[0;34m.\u001b[0m\u001b[0mcommand_executor\u001b[0m\u001b[0;34m.\u001b[0m\u001b[0mexecute\u001b[0m\u001b[0;34m(\u001b[0m\u001b[0mdriver_command\u001b[0m\u001b[0;34m,\u001b[0m \u001b[0mparams\u001b[0m\u001b[0;34m)\u001b[0m\u001b[0;34m\u001b[0m\u001b[0;34m\u001b[0m\u001b[0m\n\u001b[0m\u001b[1;32m    320\u001b[0m         \u001b[0;32mif\u001b[0m \u001b[0mresponse\u001b[0m\u001b[0;34m:\u001b[0m\u001b[0;34m\u001b[0m\u001b[0;34m\u001b[0m\u001b[0m\n\u001b[1;32m    321\u001b[0m             \u001b[0mself\u001b[0m\u001b[0;34m.\u001b[0m\u001b[0merror_handler\u001b[0m\u001b[0;34m.\u001b[0m\u001b[0mcheck_response\u001b[0m\u001b[0;34m(\u001b[0m\u001b[0mresponse\u001b[0m\u001b[0;34m)\u001b[0m\u001b[0;34m\u001b[0m\u001b[0;34m\u001b[0m\u001b[0m\n",
      "\u001b[0;32m~/anaconda3/lib/python3.8/site-packages/selenium/webdriver/remote/remote_connection.py\u001b[0m in \u001b[0;36mexecute\u001b[0;34m(self, command, params)\u001b[0m\n\u001b[1;32m    372\u001b[0m         \u001b[0mdata\u001b[0m \u001b[0;34m=\u001b[0m \u001b[0mutils\u001b[0m\u001b[0;34m.\u001b[0m\u001b[0mdump_json\u001b[0m\u001b[0;34m(\u001b[0m\u001b[0mparams\u001b[0m\u001b[0;34m)\u001b[0m\u001b[0;34m\u001b[0m\u001b[0;34m\u001b[0m\u001b[0m\n\u001b[1;32m    373\u001b[0m         \u001b[0murl\u001b[0m \u001b[0;34m=\u001b[0m \u001b[0;34m'%s%s'\u001b[0m \u001b[0;34m%\u001b[0m \u001b[0;34m(\u001b[0m\u001b[0mself\u001b[0m\u001b[0;34m.\u001b[0m\u001b[0m_url\u001b[0m\u001b[0;34m,\u001b[0m \u001b[0mpath\u001b[0m\u001b[0;34m)\u001b[0m\u001b[0;34m\u001b[0m\u001b[0;34m\u001b[0m\u001b[0m\n\u001b[0;32m--> 374\u001b[0;31m         \u001b[0;32mreturn\u001b[0m \u001b[0mself\u001b[0m\u001b[0;34m.\u001b[0m\u001b[0m_request\u001b[0m\u001b[0;34m(\u001b[0m\u001b[0mcommand_info\u001b[0m\u001b[0;34m[\u001b[0m\u001b[0;36m0\u001b[0m\u001b[0;34m]\u001b[0m\u001b[0;34m,\u001b[0m \u001b[0murl\u001b[0m\u001b[0;34m,\u001b[0m \u001b[0mbody\u001b[0m\u001b[0;34m=\u001b[0m\u001b[0mdata\u001b[0m\u001b[0;34m)\u001b[0m\u001b[0;34m\u001b[0m\u001b[0;34m\u001b[0m\u001b[0m\n\u001b[0m\u001b[1;32m    375\u001b[0m \u001b[0;34m\u001b[0m\u001b[0m\n\u001b[1;32m    376\u001b[0m     \u001b[0;32mdef\u001b[0m \u001b[0m_request\u001b[0m\u001b[0;34m(\u001b[0m\u001b[0mself\u001b[0m\u001b[0;34m,\u001b[0m \u001b[0mmethod\u001b[0m\u001b[0;34m,\u001b[0m \u001b[0murl\u001b[0m\u001b[0;34m,\u001b[0m \u001b[0mbody\u001b[0m\u001b[0;34m=\u001b[0m\u001b[0;32mNone\u001b[0m\u001b[0;34m)\u001b[0m\u001b[0;34m:\u001b[0m\u001b[0;34m\u001b[0m\u001b[0;34m\u001b[0m\u001b[0m\n",
      "\u001b[0;32m~/anaconda3/lib/python3.8/site-packages/selenium/webdriver/remote/remote_connection.py\u001b[0m in \u001b[0;36m_request\u001b[0;34m(self, method, url, body)\u001b[0m\n\u001b[1;32m    400\u001b[0m         \u001b[0;32melse\u001b[0m\u001b[0;34m:\u001b[0m\u001b[0;34m\u001b[0m\u001b[0;34m\u001b[0m\u001b[0m\n\u001b[1;32m    401\u001b[0m             \u001b[0mhttp\u001b[0m \u001b[0;34m=\u001b[0m \u001b[0murllib3\u001b[0m\u001b[0;34m.\u001b[0m\u001b[0mPoolManager\u001b[0m\u001b[0;34m(\u001b[0m\u001b[0mtimeout\u001b[0m\u001b[0;34m=\u001b[0m\u001b[0mself\u001b[0m\u001b[0;34m.\u001b[0m\u001b[0m_timeout\u001b[0m\u001b[0;34m)\u001b[0m\u001b[0;34m\u001b[0m\u001b[0;34m\u001b[0m\u001b[0m\n\u001b[0;32m--> 402\u001b[0;31m             \u001b[0mresp\u001b[0m \u001b[0;34m=\u001b[0m \u001b[0mhttp\u001b[0m\u001b[0;34m.\u001b[0m\u001b[0mrequest\u001b[0m\u001b[0;34m(\u001b[0m\u001b[0mmethod\u001b[0m\u001b[0;34m,\u001b[0m \u001b[0murl\u001b[0m\u001b[0;34m,\u001b[0m \u001b[0mbody\u001b[0m\u001b[0;34m=\u001b[0m\u001b[0mbody\u001b[0m\u001b[0;34m,\u001b[0m \u001b[0mheaders\u001b[0m\u001b[0;34m=\u001b[0m\u001b[0mheaders\u001b[0m\u001b[0;34m)\u001b[0m\u001b[0;34m\u001b[0m\u001b[0;34m\u001b[0m\u001b[0m\n\u001b[0m\u001b[1;32m    403\u001b[0m \u001b[0;34m\u001b[0m\u001b[0m\n\u001b[1;32m    404\u001b[0m             \u001b[0mstatuscode\u001b[0m \u001b[0;34m=\u001b[0m \u001b[0mresp\u001b[0m\u001b[0;34m.\u001b[0m\u001b[0mstatus\u001b[0m\u001b[0;34m\u001b[0m\u001b[0;34m\u001b[0m\u001b[0m\n",
      "\u001b[0;32m~/anaconda3/lib/python3.8/site-packages/urllib3/request.py\u001b[0m in \u001b[0;36mrequest\u001b[0;34m(self, method, url, fields, headers, **urlopen_kw)\u001b[0m\n\u001b[1;32m     77\u001b[0m             )\n\u001b[1;32m     78\u001b[0m         \u001b[0;32melse\u001b[0m\u001b[0;34m:\u001b[0m\u001b[0;34m\u001b[0m\u001b[0;34m\u001b[0m\u001b[0m\n\u001b[0;32m---> 79\u001b[0;31m             return self.request_encode_body(\n\u001b[0m\u001b[1;32m     80\u001b[0m                 \u001b[0mmethod\u001b[0m\u001b[0;34m,\u001b[0m \u001b[0murl\u001b[0m\u001b[0;34m,\u001b[0m \u001b[0mfields\u001b[0m\u001b[0;34m=\u001b[0m\u001b[0mfields\u001b[0m\u001b[0;34m,\u001b[0m \u001b[0mheaders\u001b[0m\u001b[0;34m=\u001b[0m\u001b[0mheaders\u001b[0m\u001b[0;34m,\u001b[0m \u001b[0;34m**\u001b[0m\u001b[0murlopen_kw\u001b[0m\u001b[0;34m\u001b[0m\u001b[0;34m\u001b[0m\u001b[0m\n\u001b[1;32m     81\u001b[0m             )\n",
      "\u001b[0;32m~/anaconda3/lib/python3.8/site-packages/urllib3/request.py\u001b[0m in \u001b[0;36mrequest_encode_body\u001b[0;34m(self, method, url, fields, headers, encode_multipart, multipart_boundary, **urlopen_kw)\u001b[0m\n\u001b[1;32m    169\u001b[0m         \u001b[0mextra_kw\u001b[0m\u001b[0;34m.\u001b[0m\u001b[0mupdate\u001b[0m\u001b[0;34m(\u001b[0m\u001b[0murlopen_kw\u001b[0m\u001b[0;34m)\u001b[0m\u001b[0;34m\u001b[0m\u001b[0;34m\u001b[0m\u001b[0m\n\u001b[1;32m    170\u001b[0m \u001b[0;34m\u001b[0m\u001b[0m\n\u001b[0;32m--> 171\u001b[0;31m         \u001b[0;32mreturn\u001b[0m \u001b[0mself\u001b[0m\u001b[0;34m.\u001b[0m\u001b[0murlopen\u001b[0m\u001b[0;34m(\u001b[0m\u001b[0mmethod\u001b[0m\u001b[0;34m,\u001b[0m \u001b[0murl\u001b[0m\u001b[0;34m,\u001b[0m \u001b[0;34m**\u001b[0m\u001b[0mextra_kw\u001b[0m\u001b[0;34m)\u001b[0m\u001b[0;34m\u001b[0m\u001b[0;34m\u001b[0m\u001b[0m\n\u001b[0m",
      "\u001b[0;32m~/anaconda3/lib/python3.8/site-packages/urllib3/poolmanager.py\u001b[0m in \u001b[0;36murlopen\u001b[0;34m(self, method, url, redirect, **kw)\u001b[0m\n\u001b[1;32m    334\u001b[0m             \u001b[0mresponse\u001b[0m \u001b[0;34m=\u001b[0m \u001b[0mconn\u001b[0m\u001b[0;34m.\u001b[0m\u001b[0murlopen\u001b[0m\u001b[0;34m(\u001b[0m\u001b[0mmethod\u001b[0m\u001b[0;34m,\u001b[0m \u001b[0murl\u001b[0m\u001b[0;34m,\u001b[0m \u001b[0;34m**\u001b[0m\u001b[0mkw\u001b[0m\u001b[0;34m)\u001b[0m\u001b[0;34m\u001b[0m\u001b[0;34m\u001b[0m\u001b[0m\n\u001b[1;32m    335\u001b[0m         \u001b[0;32melse\u001b[0m\u001b[0;34m:\u001b[0m\u001b[0;34m\u001b[0m\u001b[0;34m\u001b[0m\u001b[0m\n\u001b[0;32m--> 336\u001b[0;31m             \u001b[0mresponse\u001b[0m \u001b[0;34m=\u001b[0m \u001b[0mconn\u001b[0m\u001b[0;34m.\u001b[0m\u001b[0murlopen\u001b[0m\u001b[0;34m(\u001b[0m\u001b[0mmethod\u001b[0m\u001b[0;34m,\u001b[0m \u001b[0mu\u001b[0m\u001b[0;34m.\u001b[0m\u001b[0mrequest_uri\u001b[0m\u001b[0;34m,\u001b[0m \u001b[0;34m**\u001b[0m\u001b[0mkw\u001b[0m\u001b[0;34m)\u001b[0m\u001b[0;34m\u001b[0m\u001b[0;34m\u001b[0m\u001b[0m\n\u001b[0m\u001b[1;32m    337\u001b[0m \u001b[0;34m\u001b[0m\u001b[0m\n\u001b[1;32m    338\u001b[0m         \u001b[0mredirect_location\u001b[0m \u001b[0;34m=\u001b[0m \u001b[0mredirect\u001b[0m \u001b[0;32mand\u001b[0m \u001b[0mresponse\u001b[0m\u001b[0;34m.\u001b[0m\u001b[0mget_redirect_location\u001b[0m\u001b[0;34m(\u001b[0m\u001b[0;34m)\u001b[0m\u001b[0;34m\u001b[0m\u001b[0;34m\u001b[0m\u001b[0m\n",
      "\u001b[0;32m~/anaconda3/lib/python3.8/site-packages/urllib3/connectionpool.py\u001b[0m in \u001b[0;36murlopen\u001b[0;34m(self, method, url, body, headers, retries, redirect, assert_same_host, timeout, pool_timeout, release_conn, chunked, body_pos, **response_kw)\u001b[0m\n\u001b[1;32m    668\u001b[0m \u001b[0;34m\u001b[0m\u001b[0m\n\u001b[1;32m    669\u001b[0m             \u001b[0;31m# Make the request on the httplib connection object.\u001b[0m\u001b[0;34m\u001b[0m\u001b[0;34m\u001b[0m\u001b[0;34m\u001b[0m\u001b[0m\n\u001b[0;32m--> 670\u001b[0;31m             httplib_response = self._make_request(\n\u001b[0m\u001b[1;32m    671\u001b[0m                 \u001b[0mconn\u001b[0m\u001b[0;34m,\u001b[0m\u001b[0;34m\u001b[0m\u001b[0;34m\u001b[0m\u001b[0m\n\u001b[1;32m    672\u001b[0m                 \u001b[0mmethod\u001b[0m\u001b[0;34m,\u001b[0m\u001b[0;34m\u001b[0m\u001b[0;34m\u001b[0m\u001b[0m\n",
      "\u001b[0;32m~/anaconda3/lib/python3.8/site-packages/urllib3/connectionpool.py\u001b[0m in \u001b[0;36m_make_request\u001b[0;34m(self, conn, method, url, timeout, chunked, **httplib_request_kw)\u001b[0m\n\u001b[1;32m    424\u001b[0m                     \u001b[0;31m# Python 3 (including for exceptions like SystemExit).\u001b[0m\u001b[0;34m\u001b[0m\u001b[0;34m\u001b[0m\u001b[0;34m\u001b[0m\u001b[0m\n\u001b[1;32m    425\u001b[0m                     \u001b[0;31m# Otherwise it looks like a bug in the code.\u001b[0m\u001b[0;34m\u001b[0m\u001b[0;34m\u001b[0m\u001b[0;34m\u001b[0m\u001b[0m\n\u001b[0;32m--> 426\u001b[0;31m                     \u001b[0msix\u001b[0m\u001b[0;34m.\u001b[0m\u001b[0mraise_from\u001b[0m\u001b[0;34m(\u001b[0m\u001b[0me\u001b[0m\u001b[0;34m,\u001b[0m \u001b[0;32mNone\u001b[0m\u001b[0;34m)\u001b[0m\u001b[0;34m\u001b[0m\u001b[0;34m\u001b[0m\u001b[0m\n\u001b[0m\u001b[1;32m    427\u001b[0m         \u001b[0;32mexcept\u001b[0m \u001b[0;34m(\u001b[0m\u001b[0mSocketTimeout\u001b[0m\u001b[0;34m,\u001b[0m \u001b[0mBaseSSLError\u001b[0m\u001b[0;34m,\u001b[0m \u001b[0mSocketError\u001b[0m\u001b[0;34m)\u001b[0m \u001b[0;32mas\u001b[0m \u001b[0me\u001b[0m\u001b[0;34m:\u001b[0m\u001b[0;34m\u001b[0m\u001b[0;34m\u001b[0m\u001b[0m\n\u001b[1;32m    428\u001b[0m             \u001b[0mself\u001b[0m\u001b[0;34m.\u001b[0m\u001b[0m_raise_timeout\u001b[0m\u001b[0;34m(\u001b[0m\u001b[0merr\u001b[0m\u001b[0;34m=\u001b[0m\u001b[0me\u001b[0m\u001b[0;34m,\u001b[0m \u001b[0murl\u001b[0m\u001b[0;34m=\u001b[0m\u001b[0murl\u001b[0m\u001b[0;34m,\u001b[0m \u001b[0mtimeout_value\u001b[0m\u001b[0;34m=\u001b[0m\u001b[0mread_timeout\u001b[0m\u001b[0;34m)\u001b[0m\u001b[0;34m\u001b[0m\u001b[0;34m\u001b[0m\u001b[0m\n",
      "\u001b[0;32m~/anaconda3/lib/python3.8/site-packages/urllib3/packages/six.py\u001b[0m in \u001b[0;36mraise_from\u001b[0;34m(value, from_value)\u001b[0m\n",
      "\u001b[0;32m~/anaconda3/lib/python3.8/site-packages/urllib3/connectionpool.py\u001b[0m in \u001b[0;36m_make_request\u001b[0;34m(self, conn, method, url, timeout, chunked, **httplib_request_kw)\u001b[0m\n\u001b[1;32m    419\u001b[0m                 \u001b[0;31m# Python 3\u001b[0m\u001b[0;34m\u001b[0m\u001b[0;34m\u001b[0m\u001b[0;34m\u001b[0m\u001b[0m\n\u001b[1;32m    420\u001b[0m                 \u001b[0;32mtry\u001b[0m\u001b[0;34m:\u001b[0m\u001b[0;34m\u001b[0m\u001b[0;34m\u001b[0m\u001b[0m\n\u001b[0;32m--> 421\u001b[0;31m                     \u001b[0mhttplib_response\u001b[0m \u001b[0;34m=\u001b[0m \u001b[0mconn\u001b[0m\u001b[0;34m.\u001b[0m\u001b[0mgetresponse\u001b[0m\u001b[0;34m(\u001b[0m\u001b[0;34m)\u001b[0m\u001b[0;34m\u001b[0m\u001b[0;34m\u001b[0m\u001b[0m\n\u001b[0m\u001b[1;32m    422\u001b[0m                 \u001b[0;32mexcept\u001b[0m \u001b[0mBaseException\u001b[0m \u001b[0;32mas\u001b[0m \u001b[0me\u001b[0m\u001b[0;34m:\u001b[0m\u001b[0;34m\u001b[0m\u001b[0;34m\u001b[0m\u001b[0m\n\u001b[1;32m    423\u001b[0m                     \u001b[0;31m# Remove the TypeError from the exception chain in\u001b[0m\u001b[0;34m\u001b[0m\u001b[0;34m\u001b[0m\u001b[0;34m\u001b[0m\u001b[0m\n",
      "\u001b[0;32m~/anaconda3/lib/python3.8/http/client.py\u001b[0m in \u001b[0;36mgetresponse\u001b[0;34m(self)\u001b[0m\n\u001b[1;32m   1345\u001b[0m         \u001b[0;32mtry\u001b[0m\u001b[0;34m:\u001b[0m\u001b[0;34m\u001b[0m\u001b[0;34m\u001b[0m\u001b[0m\n\u001b[1;32m   1346\u001b[0m             \u001b[0;32mtry\u001b[0m\u001b[0;34m:\u001b[0m\u001b[0;34m\u001b[0m\u001b[0;34m\u001b[0m\u001b[0m\n\u001b[0;32m-> 1347\u001b[0;31m                 \u001b[0mresponse\u001b[0m\u001b[0;34m.\u001b[0m\u001b[0mbegin\u001b[0m\u001b[0;34m(\u001b[0m\u001b[0;34m)\u001b[0m\u001b[0;34m\u001b[0m\u001b[0;34m\u001b[0m\u001b[0m\n\u001b[0m\u001b[1;32m   1348\u001b[0m             \u001b[0;32mexcept\u001b[0m \u001b[0mConnectionError\u001b[0m\u001b[0;34m:\u001b[0m\u001b[0;34m\u001b[0m\u001b[0;34m\u001b[0m\u001b[0m\n\u001b[1;32m   1349\u001b[0m                 \u001b[0mself\u001b[0m\u001b[0;34m.\u001b[0m\u001b[0mclose\u001b[0m\u001b[0;34m(\u001b[0m\u001b[0;34m)\u001b[0m\u001b[0;34m\u001b[0m\u001b[0;34m\u001b[0m\u001b[0m\n",
      "\u001b[0;32m~/anaconda3/lib/python3.8/http/client.py\u001b[0m in \u001b[0;36mbegin\u001b[0;34m(self)\u001b[0m\n\u001b[1;32m    305\u001b[0m         \u001b[0;31m# read until we get a non-100 response\u001b[0m\u001b[0;34m\u001b[0m\u001b[0;34m\u001b[0m\u001b[0;34m\u001b[0m\u001b[0m\n\u001b[1;32m    306\u001b[0m         \u001b[0;32mwhile\u001b[0m \u001b[0;32mTrue\u001b[0m\u001b[0;34m:\u001b[0m\u001b[0;34m\u001b[0m\u001b[0;34m\u001b[0m\u001b[0m\n\u001b[0;32m--> 307\u001b[0;31m             \u001b[0mversion\u001b[0m\u001b[0;34m,\u001b[0m \u001b[0mstatus\u001b[0m\u001b[0;34m,\u001b[0m \u001b[0mreason\u001b[0m \u001b[0;34m=\u001b[0m \u001b[0mself\u001b[0m\u001b[0;34m.\u001b[0m\u001b[0m_read_status\u001b[0m\u001b[0;34m(\u001b[0m\u001b[0;34m)\u001b[0m\u001b[0;34m\u001b[0m\u001b[0;34m\u001b[0m\u001b[0m\n\u001b[0m\u001b[1;32m    308\u001b[0m             \u001b[0;32mif\u001b[0m \u001b[0mstatus\u001b[0m \u001b[0;34m!=\u001b[0m \u001b[0mCONTINUE\u001b[0m\u001b[0;34m:\u001b[0m\u001b[0;34m\u001b[0m\u001b[0;34m\u001b[0m\u001b[0m\n\u001b[1;32m    309\u001b[0m                 \u001b[0;32mbreak\u001b[0m\u001b[0;34m\u001b[0m\u001b[0;34m\u001b[0m\u001b[0m\n",
      "\u001b[0;32m~/anaconda3/lib/python3.8/http/client.py\u001b[0m in \u001b[0;36m_read_status\u001b[0;34m(self)\u001b[0m\n\u001b[1;32m    266\u001b[0m \u001b[0;34m\u001b[0m\u001b[0m\n\u001b[1;32m    267\u001b[0m     \u001b[0;32mdef\u001b[0m \u001b[0m_read_status\u001b[0m\u001b[0;34m(\u001b[0m\u001b[0mself\u001b[0m\u001b[0;34m)\u001b[0m\u001b[0;34m:\u001b[0m\u001b[0;34m\u001b[0m\u001b[0;34m\u001b[0m\u001b[0m\n\u001b[0;32m--> 268\u001b[0;31m         \u001b[0mline\u001b[0m \u001b[0;34m=\u001b[0m \u001b[0mstr\u001b[0m\u001b[0;34m(\u001b[0m\u001b[0mself\u001b[0m\u001b[0;34m.\u001b[0m\u001b[0mfp\u001b[0m\u001b[0;34m.\u001b[0m\u001b[0mreadline\u001b[0m\u001b[0;34m(\u001b[0m\u001b[0m_MAXLINE\u001b[0m \u001b[0;34m+\u001b[0m \u001b[0;36m1\u001b[0m\u001b[0;34m)\u001b[0m\u001b[0;34m,\u001b[0m \u001b[0;34m\"iso-8859-1\"\u001b[0m\u001b[0;34m)\u001b[0m\u001b[0;34m\u001b[0m\u001b[0;34m\u001b[0m\u001b[0m\n\u001b[0m\u001b[1;32m    269\u001b[0m         \u001b[0;32mif\u001b[0m \u001b[0mlen\u001b[0m\u001b[0;34m(\u001b[0m\u001b[0mline\u001b[0m\u001b[0;34m)\u001b[0m \u001b[0;34m>\u001b[0m \u001b[0m_MAXLINE\u001b[0m\u001b[0;34m:\u001b[0m\u001b[0;34m\u001b[0m\u001b[0;34m\u001b[0m\u001b[0m\n\u001b[1;32m    270\u001b[0m             \u001b[0;32mraise\u001b[0m \u001b[0mLineTooLong\u001b[0m\u001b[0;34m(\u001b[0m\u001b[0;34m\"status line\"\u001b[0m\u001b[0;34m)\u001b[0m\u001b[0;34m\u001b[0m\u001b[0;34m\u001b[0m\u001b[0m\n",
      "\u001b[0;32m~/anaconda3/lib/python3.8/socket.py\u001b[0m in \u001b[0;36mreadinto\u001b[0;34m(self, b)\u001b[0m\n\u001b[1;32m    667\u001b[0m         \u001b[0;32mwhile\u001b[0m \u001b[0;32mTrue\u001b[0m\u001b[0;34m:\u001b[0m\u001b[0;34m\u001b[0m\u001b[0;34m\u001b[0m\u001b[0m\n\u001b[1;32m    668\u001b[0m             \u001b[0;32mtry\u001b[0m\u001b[0;34m:\u001b[0m\u001b[0;34m\u001b[0m\u001b[0;34m\u001b[0m\u001b[0m\n\u001b[0;32m--> 669\u001b[0;31m                 \u001b[0;32mreturn\u001b[0m \u001b[0mself\u001b[0m\u001b[0;34m.\u001b[0m\u001b[0m_sock\u001b[0m\u001b[0;34m.\u001b[0m\u001b[0mrecv_into\u001b[0m\u001b[0;34m(\u001b[0m\u001b[0mb\u001b[0m\u001b[0;34m)\u001b[0m\u001b[0;34m\u001b[0m\u001b[0;34m\u001b[0m\u001b[0m\n\u001b[0m\u001b[1;32m    670\u001b[0m             \u001b[0;32mexcept\u001b[0m \u001b[0mtimeout\u001b[0m\u001b[0;34m:\u001b[0m\u001b[0;34m\u001b[0m\u001b[0;34m\u001b[0m\u001b[0m\n\u001b[1;32m    671\u001b[0m                 \u001b[0mself\u001b[0m\u001b[0;34m.\u001b[0m\u001b[0m_timeout_occurred\u001b[0m \u001b[0;34m=\u001b[0m \u001b[0;32mTrue\u001b[0m\u001b[0;34m\u001b[0m\u001b[0;34m\u001b[0m\u001b[0m\n",
      "\u001b[0;31mKeyboardInterrupt\u001b[0m: "
     ]
    }
   ],
   "source": [
    "from bs4 import BeautifulSoup\n",
    "from selenium import webdriver\n",
    "\n",
    "import re\n",
    "\n",
    "start_count = 0\n",
    "data = []\n",
    "nopages = 1\n",
    "\n",
    "while start_count < nopages:\n",
    "    advn = [] # for older adverts, only new ones dont have this number\n",
    "    vjk = []\n",
    "    \n",
    "    base_url = \"https://uk.indeed.com/jobs?q=data%20scientist\"\n",
    "    \n",
    "    if start_count > 0:\n",
    "            base_url = f\"https://uk.indeed.com/jobs?q=data%20scientist&start={start_count}\"\n",
    "            \n",
    "    # https://stackoverflow.com/questions/45448994/wait-page-to-load-before-getting-data-with-requests-get-in-python-3\n",
    "    browser = webdriver.PhantomJS()\n",
    "    browser.get(base_url)\n",
    "    html = browser.page_source\n",
    "    soup = BeautifulSoup(html, 'lxml')\n",
    "    \n",
    "    nojobs = soup.find('div', {'id': 'searchCountPages'}).get_text()\n",
    "    nojobs_f = float(re.findall('(?<=f).*(?=j)', nojobs)[0].replace(',', ''))\n",
    "    nopages = nojobs_f * 10 - 10\n",
    "    \n",
    "    jobs = soup.find_all('a',{\"class\": \"tapItem\"})\n",
    "\n",
    "    for job in jobs:\n",
    "        advn.append(job.get('data-empn'))\n",
    "        vjk.append(job.get('data-jk'))\n",
    "    \n",
    "    for param_1, param_2 in list(zip(vjk,advn)):\n",
    "            url = f\"{base_url}&vjk={param_1}\"\n",
    "            if param_2 != None:\n",
    "                url = f\"{url}&advn={param_2}\"\n",
    "\n",
    "            browser = webdriver.PhantomJS()\n",
    "            browser.get(url)\n",
    "            html = browser.page_source\n",
    "            soup = BeautifulSoup(html, 'lxml')\n",
    "\n",
    "            info_panel = soup.find('div', {'class': 'jobsearch-ViewJobLayout'})\n",
    "            title = info_panel.find('div', {'class': 'jobsearch-JobInfoHeader-title-container'})\n",
    "            company_and_rate = info_panel.find('div', {'class': 'jobsearch-InlineCompanyRating'})\n",
    "            for child in company_and_rate.find_all('div'):\n",
    "                if(child.find('a')):\n",
    "                    company = child.find('a')\n",
    "                else:\n",
    "                    company = child\n",
    "                break\n",
    "            description = info_panel.find('div', {'class': 'jobsearch-jobDescriptionText'})\n",
    "            \n",
    "            print(description.get_text())\n",
    "            \n",
    "            data.append([url, title.get_text(), company.get_text(), description.get_text().replace('\\n','')])\n",
    "\n",
    "            url = base_url\n",
    "            \n",
    "    start_count += 10"
   ]
  },
  {
   "cell_type": "code",
   "execution_count": null,
   "metadata": {},
   "outputs": [],
   "source": [
    "import csv\n",
    "\n",
    "with open('datasciencejobs.csv', 'w') as csvfile:\n",
    "    spamwriter = csv.writer(csvfile, delimiter='\\t',\n",
    "                            quotechar='|', quoting=csv.QUOTE_MINIMAL)\n",
    "    spamwriter.writerow([\"URL\", \"Job Title\", \"Company\", \"Description\"])\n",
    "    for i in data:\n",
    "        spamwriter.writerow(i)"
   ]
  },
  {
   "cell_type": "code",
   "execution_count": 6,
   "metadata": {},
   "outputs": [
    {
     "data": {
      "text/html": [
       "<div>\n",
       "<style scoped>\n",
       "    .dataframe tbody tr th:only-of-type {\n",
       "        vertical-align: middle;\n",
       "    }\n",
       "\n",
       "    .dataframe tbody tr th {\n",
       "        vertical-align: top;\n",
       "    }\n",
       "\n",
       "    .dataframe thead th {\n",
       "        text-align: right;\n",
       "    }\n",
       "</style>\n",
       "<table border=\"1\" class=\"dataframe\">\n",
       "  <thead>\n",
       "    <tr style=\"text-align: right;\">\n",
       "      <th></th>\n",
       "      <th>URL</th>\n",
       "      <th>Job Title</th>\n",
       "      <th>Company</th>\n",
       "      <th>Description</th>\n",
       "    </tr>\n",
       "  </thead>\n",
       "  <tbody>\n",
       "    <tr>\n",
       "      <th>0</th>\n",
       "      <td>https://uk.indeed.com/jobs?q=data%20scientist&amp;...</td>\n",
       "      <td>NLP Data Scientist</td>\n",
       "      <td>Qualimental Technologies</td>\n",
       "      <td>UK based applicants onlyWho we areWe are a gro...</td>\n",
       "    </tr>\n",
       "    <tr>\n",
       "      <th>1</th>\n",
       "      <td>https://uk.indeed.com/jobs?q=data%20scientist&amp;...</td>\n",
       "      <td>Data Scientist</td>\n",
       "      <td>Just eat Takeaway.com</td>\n",
       "      <td>Data ScientistAre you passionate about food te...</td>\n",
       "    </tr>\n",
       "    <tr>\n",
       "      <th>2</th>\n",
       "      <td>https://uk.indeed.com/jobs?q=data%20scientist&amp;...</td>\n",
       "      <td>Data Scientist, Python, R, Pharmaceutical</td>\n",
       "      <td>Corriculo</td>\n",
       "      <td>Salary: £30k - 38k per year + BenefitsReferenc...</td>\n",
       "    </tr>\n",
       "    <tr>\n",
       "      <th>3</th>\n",
       "      <td>https://uk.indeed.com/jobs?q=data%20scientist&amp;...</td>\n",
       "      <td>2022 Graduate Data Scientist</td>\n",
       "      <td>Sagentia</td>\n",
       "      <td>Are you an enthusiastic and curious individual...</td>\n",
       "    </tr>\n",
       "    <tr>\n",
       "      <th>4</th>\n",
       "      <td>https://uk.indeed.com/jobs?q=data%20scientist&amp;...</td>\n",
       "      <td>Data &amp; Analytics - Graduate Programme</td>\n",
       "      <td>NatWest Group</td>\n",
       "      <td>Our people work differently depending on their...</td>\n",
       "    </tr>\n",
       "    <tr>\n",
       "      <th>5</th>\n",
       "      <td>https://uk.indeed.com/jobs?q=data%20scientist&amp;...</td>\n",
       "      <td>Graduate Data Scientist</td>\n",
       "      <td>L&amp;Q</td>\n",
       "      <td>Data Science GraduateContract: 30 monthsHours:...</td>\n",
       "    </tr>\n",
       "    <tr>\n",
       "      <th>6</th>\n",
       "      <td>https://uk.indeed.com/jobs?q=data%20scientist&amp;...</td>\n",
       "      <td>Junior Data Scientist</td>\n",
       "      <td>Novafutur</td>\n",
       "      <td>This is an opportunity to become a Data Scient...</td>\n",
       "    </tr>\n",
       "    <tr>\n",
       "      <th>7</th>\n",
       "      <td>https://uk.indeed.com/jobs?q=data%20scientist&amp;...</td>\n",
       "      <td>Data Scientist</td>\n",
       "      <td>Link Humans</td>\n",
       "      <td>We are looking for a Data Scientist to join ou...</td>\n",
       "    </tr>\n",
       "    <tr>\n",
       "      <th>8</th>\n",
       "      <td>https://uk.indeed.com/jobs?q=data%20scientist&amp;...</td>\n",
       "      <td>Data Scientist</td>\n",
       "      <td>LEGO</td>\n",
       "      <td>Can you drive measurable business value throug...</td>\n",
       "    </tr>\n",
       "  </tbody>\n",
       "</table>\n",
       "</div>"
      ],
      "text/plain": [
       "                                                 URL  \\\n",
       "0  https://uk.indeed.com/jobs?q=data%20scientist&...   \n",
       "1  https://uk.indeed.com/jobs?q=data%20scientist&...   \n",
       "2  https://uk.indeed.com/jobs?q=data%20scientist&...   \n",
       "3  https://uk.indeed.com/jobs?q=data%20scientist&...   \n",
       "4  https://uk.indeed.com/jobs?q=data%20scientist&...   \n",
       "5  https://uk.indeed.com/jobs?q=data%20scientist&...   \n",
       "6  https://uk.indeed.com/jobs?q=data%20scientist&...   \n",
       "7  https://uk.indeed.com/jobs?q=data%20scientist&...   \n",
       "8  https://uk.indeed.com/jobs?q=data%20scientist&...   \n",
       "\n",
       "                                   Job Title                   Company  \\\n",
       "0                         NLP Data Scientist  Qualimental Technologies   \n",
       "1                             Data Scientist     Just eat Takeaway.com   \n",
       "2  Data Scientist, Python, R, Pharmaceutical                 Corriculo   \n",
       "3               2022 Graduate Data Scientist                  Sagentia   \n",
       "4      Data & Analytics - Graduate Programme             NatWest Group   \n",
       "5                    Graduate Data Scientist                       L&Q   \n",
       "6                      Junior Data Scientist                 Novafutur   \n",
       "7                             Data Scientist               Link Humans   \n",
       "8                             Data Scientist                      LEGO   \n",
       "\n",
       "                                         Description  \n",
       "0  UK based applicants onlyWho we areWe are a gro...  \n",
       "1  Data ScientistAre you passionate about food te...  \n",
       "2  Salary: £30k - 38k per year + BenefitsReferenc...  \n",
       "3  Are you an enthusiastic and curious individual...  \n",
       "4  Our people work differently depending on their...  \n",
       "5  Data Science GraduateContract: 30 monthsHours:...  \n",
       "6  This is an opportunity to become a Data Scient...  \n",
       "7  We are looking for a Data Scientist to join ou...  \n",
       "8  Can you drive measurable business value throug...  "
      ]
     },
     "execution_count": 6,
     "metadata": {},
     "output_type": "execute_result"
    }
   ],
   "source": [
    "import pandas as pd\n",
    "\n",
    "df = pd.read_csv('datasciencejobs.csv',  sep='\\t')\n",
    "df"
   ]
  },
  {
   "cell_type": "code",
   "execution_count": null,
   "metadata": {},
   "outputs": [],
   "source": []
  }
 ],
 "metadata": {
  "kernelspec": {
   "display_name": "Python 3",
   "language": "python",
   "name": "python3"
  },
  "language_info": {
   "codemirror_mode": {
    "name": "ipython",
    "version": 3
   },
   "file_extension": ".py",
   "mimetype": "text/x-python",
   "name": "python",
   "nbconvert_exporter": "python",
   "pygments_lexer": "ipython3",
   "version": "3.8.5"
  }
 },
 "nbformat": 4,
 "nbformat_minor": 4
}
